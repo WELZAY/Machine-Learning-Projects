{
  "cells": [
    {
      "cell_type": "markdown",
      "id": "7523e769-6ad7-4f64-a52d-13516b2c4ada",
      "metadata": {
        "tags": [],
        "id": "7523e769-6ad7-4f64-a52d-13516b2c4ada"
      },
      "source": [
        "# 1 - Abstract\n",
        "\n",
        "The report discusses a logistics problem faced by JD.ID and evaluates three scenarios to minimize transportation costs while meeting demand and respecting capacity constraints.\n",
        "The report analyzes three scenarios. In the first scenario, the company evaluates the optimal flow of the product from two main warehouses to two local warehouses and three distribution centers. In the second scenario, the company decides whether to build a third local warehouse in West Java. In the third scenario, the company analyzes the flow of two products (groceries and electronics) and decides whether a third local warehouse would be more efficient.\n",
        "\n",
        "\n",
        "Our findings are as follows:\n",
        "In scenario 1, it is recommended to increase the capacity of the flow from certain warehouses to distribution centers, and also increase the capacity of some of the main warehouses. It is also suggested that a new local warehouse should be considered for to increase efficiency. In scenario 2, opening a new local warehouse is necessary to meet increased demand in the West, but it is not needed if demand remains the same. In scenario 3, it is recommended to open Local Warehouse 3 as well since transportation costs from the main warehouses to local warehouses are lower.\n",
        "\n",
        "\n"
      ]
    },
    {
      "cell_type": "markdown",
      "id": "25adff34-8bf1-4a9b-8946-98001bfec91f",
      "metadata": {
        "tags": [],
        "id": "25adff34-8bf1-4a9b-8946-98001bfec91f"
      },
      "source": [
        "# 2 - Acronyms and definitions\n",
        "*Include this section if you use acronyms or technical terms in the text whose meaning may be unknown to the reader, may not correspond to the commonly understood meaning, or may otherwise be ambiguous.*\n",
        "\n",
        "*For example:*\n",
        "- *JD.com: Chinese retail and e-commerce company.*\n",
        "- *JD.ID: Chinese retail and e-commerce company when expanded into the Indonesian market.*\n",
        "- *Retail: Companies who purchase products in large quantities from manufacturers or wholesalers, and then sell them in smaller quantities to individual customers through various channels such as physical stores, online marketplaces or mobile applications.*\n",
        "- *Java Island: One of the islands in Indonesia that is divided into six main provinces; Banten, DKI Jakarta, West Java, Central Java, DIY Yogyakarta, and East Java.*\n",
        "- *Main Warehouse: It is a primary storage. It is responsible for receiving, storing from factories, and organizing inventory, picking and packing orders, and coordinating deliveries to local warehouses and distribution centers.*\n",
        "- *Groceries: Food and household items that are typically purchased by consumers on a regular basis for their day-to-day needs.*\n",
        "- *Electronics:A wide range of products such as televisions, smartphones, cameras, etc.*\n",
        "- *Local Warehouse: Intermediate storage warehouse which is strategically located in areas where there is a high demand for products and near the distribution center to quickly fulfill customers orders and improve its overall delivery efficiency.*\n",
        "- *Distribution Center: Is the last resort in the product flow from the main and local warehouses to the customers.*\n",
        "- *Storage Capacity: Maximum amount of products that can be stored in a given storage facility.*\n",
        "- *Transportation Cost: the expenses associated with moving products or materials from one location to another.*\n",
        "- *Fixed costs: Represents rent and other costs associated with maintaining the warehouses on a long-term basis.*\n",
        "- *Flow capacity: Maximum amount of product that can be transported from one facility to another.*\n",
        "\n"
      ]
    },
    {
      "cell_type": "markdown",
      "id": "815c628c-6de1-4501-8ff4-2cd99e441b32",
      "metadata": {
        "tags": [],
        "id": "815c628c-6de1-4501-8ff4-2cd99e441b32"
      },
      "source": [
        "# 3 - Problem statement\n",
        "*JD.com, the largest retailer in China, expanded into the Indonesian market as JD.ID. JD.ID is currently focusing on the Java Island market and operates 2 main warehouses in DKI Jakarta, which are allowed to transport goods to local warehouses and distribution centers. The main warehouse has no specific coverage area, which means they can cover all of Java Island. In addition, JD.ID has two local warehouses in Central Java and East Java to cover faster delivery in specific areas, which receive their supplies from the main warehouses. The first local warehouse will cover only Center Java, and the other local warehouse will cover only East Java. The items in the local warehouse can only be supplied from the main warehouse. JD.ID also has 3 distribution centers located in West Java, Central Java, and East Java. They receive goods from both main and local warehouses.\n",
        "The logistics department is trying to determine how to minimize the total transportation cost of delivering the products while meeting the demand at each customer location and respecting the capacity constraints of the transportation network and whether opening a third local warehouse in the West region, due to increased demand, would  be efficient.*"
      ]
    },
    {
      "cell_type": "markdown",
      "id": "a3486283-a4bb-400a-91e9-1526a357a284",
      "metadata": {
        "tags": [],
        "id": "a3486283-a4bb-400a-91e9-1526a357a284"
      },
      "source": [
        "# 4 - System"
      ]
    },
    {
      "cell_type": "markdown",
      "source": [
        "\n",
        "**Constraints:**\n",
        "\n",
        "**Supply constraint:** The total supply of each product from the factories to the main warehouses is equal to the total supply of each product from the main warehouses to the local warehouses and distribution centers:\n",
        "\n",
        "$\\sum_{j \\in {J\\setminus K}} s_{ij} = \\sum_{j \\in {J\\setminus F}} x_{ij1} + \\sum_{j \\in K} \\sum_{l \\in L} x_{ijl}$ for all $i \\in I$\n",
        "\n",
        "**Demand constraint**: The total supply of each product from the distribution centers to the customer locations must meet the demand for that product at each customer location:\n",
        "\n",
        "$\\sum_{l \\in L} y_{ikl} = d_{ik}$ for all $i \\in I, k \\in K$\n",
        "\n",
        "**Capacity constraint 1:** The total supply of each product from each warehouse to each distribution center must not exceed the capacity of the transportation network:\n",
        "\n",
        "$x_{ijl} \\leq M_{jl}$ for all $i \\in I, j \\in {J\\setminus K}, l \\in L$\n",
        "\n",
        "**Capacity constraint 2**: The total supply of each product from each distribution center to each customer location must not exceed the capacity of the transportation network:\n",
        "\n",
        "$y_{ikl} \\leq N_{kl}$ for all $i \\in I, k \\in K, l \\in L$\n",
        "\n",
        "**Non-negative constraints:**\n",
        "\n",
        "$x_{ijl} \\geq 0$ for all $i \\in I, j \\in J, l \\in L$\n",
        "\n",
        "$y_{ikl} \\geq 0$ for all $i \\in I, k \\in K, l \\in L$\n",
        "\n",
        "This is a linear programming (LP) model that can be solved using any standard LP solver. The optimal solution will provide the optimal quantities to transport each product from each warehouse to each distribution center and customer location, in order to minimize the total transportation cost while meeting the demand at each customer location"
      ],
      "metadata": {
        "id": "Xdatwusqz2BK"
      },
      "id": "Xdatwusqz2BK"
    },
    {
      "cell_type": "markdown",
      "id": "741efcff-af2b-49a2-90da-499958a479b3",
      "metadata": {
        "id": "741efcff-af2b-49a2-90da-499958a479b3"
      },
      "source": [
        "# 5 - Data\n",
        "\n",
        "*The Sources : Coordination with the Company's Team*\n",
        "\n"
      ]
    },
    {
      "cell_type": "markdown",
      "source": [
        "### Data Scenario 1"
      ],
      "metadata": {
        "id": "zzdKyOt45RoV"
      },
      "id": "zzdKyOt45RoV"
    },
    {
      "cell_type": "code",
      "source": [
        "# Scenario 1\n",
        "\n",
        "main1 = {'MW1': 2500,'MW2': 5200}\n",
        "local1 = {'LW1': 1940,'LW2': 1820}\n",
        "fixedcost1 = {'MW1': 7161,'MW2': 7157,'LW1': 1125,'LW2': 1626}\n",
        "demand1 = {'DC1':2150,'DC2':1580,'DC3':1400}\n",
        "\n",
        "#reorganizing the arcs\n",
        "\n",
        "cost1 = {('MW1', 'LW1'):0.4,\n",
        "    ('MW1', 'LW2'):0.5,\n",
        "    ('MW2', 'LW1'):0.3,\n",
        "    ('MW2', 'LW2'):0.6,\n",
        "    ('MW1', 'DC1'):1.7,\n",
        "    ('MW1', 'DC2'):2.3,\n",
        "    ('MW1', 'DC3'):3.2,\n",
        "    ('MW2', 'DC1'):2.8,\n",
        "    ('MW2', 'DC2'):2.5,\n",
        "    ('MW2', 'DC3'):2.9,\n",
        "    ('LW1', 'DC1'):1000,\n",
        "    ('LW1', 'DC2'):0.6,\n",
        "    ('LW1', 'DC3'):1000,\n",
        "    ('LW2', 'DC1'):1000,\n",
        "    ('LW2', 'DC2'):1000,\n",
        "    ('LW2', 'DC3'):0.9}\n",
        "\n",
        "\n",
        "cap1 = {('MW1', 'LW1'):915,\n",
        "    ('MW1', 'LW2'):800,\n",
        "    ('MW2', 'LW1'):776,\n",
        "    ('MW2', 'LW2'):780,\n",
        "    ('MW1', 'DC1'):1976,\n",
        "    ('MW1', 'DC2'):968,\n",
        "    ('MW1', 'DC3'):765,\n",
        "    ('MW2', 'DC1'):1874,\n",
        "    ('MW2', 'DC2'):699,\n",
        "    ('MW2', 'DC3'):780,\n",
        "    ('LW1', 'DC1'):0,\n",
        "    ('LW1', 'DC2'):813,\n",
        "    ('LW1', 'DC3'):0,\n",
        "    ('LW2', 'DC1'):0,\n",
        "    ('LW2', 'DC2'):0,\n",
        "    ('LW2', 'DC3'):768}"
      ],
      "metadata": {
        "id": "YgcGKhXo5PrB"
      },
      "id": "YgcGKhXo5PrB",
      "execution_count": null,
      "outputs": []
    },
    {
      "cell_type": "markdown",
      "source": [
        "### Data Scenario 2"
      ],
      "metadata": {
        "id": "Dw591gdK9nFx"
      },
      "id": "Dw591gdK9nFx"
    },
    {
      "cell_type": "code",
      "source": [
        "main2 = {'MW1': 7500,'MW2': 5200}\n",
        "local2 = {'LW1': 1740,'LW2': 1820, 'LW3':1900}\n",
        "fixedcost2 = {'MW1': 7161,'MW2': 8157,'LW1': 1125,'LW2': 1626, 'LW3': 1839}\n",
        "demand2 = {'DC1':3350,'DC2':1580,'DC3':1440}\n",
        "\n",
        "#reorganizing the arcs\n",
        "\n",
        "\n",
        "cost2 = {('MW1', 'LW1'):0.4,\n",
        "    ('MW1', 'LW2'):0.5,\n",
        "    ('MW1', 'LW3'):0.1,\n",
        "    ('MW2', 'LW1'):0.3,\n",
        "    ('MW2', 'LW2'):0.6,\n",
        "    ('MW2', 'LW3'):0.3,\n",
        "    ('MW1', 'DC1'):1.7,\n",
        "    ('MW1', 'DC2'):2.3,\n",
        "    ('MW1', 'DC3'):3.2,\n",
        "    ('MW2', 'DC1'):2.8,\n",
        "    ('MW2', 'DC2'):2.5,\n",
        "    ('MW2', 'DC3'):2.9,\n",
        "    ('LW1', 'DC1'):1000,\n",
        "    ('LW1', 'DC2'):0.6,\n",
        "    ('LW1', 'DC3'):1000,\n",
        "    ('LW2', 'DC3'):0.9,\n",
        "    ('LW2', 'DC1'):1000,\n",
        "    ('LW2', 'DC2'):1000,\n",
        "    ('LW3', 'DC1'):0.7,\n",
        "    ('LW3', 'DC2'):1000,\n",
        "    ('LW3', 'DC3'):1000}\n",
        "\n",
        "\n",
        "cap2 = {('MW1', 'LW1'):915,\n",
        "    ('MW1', 'LW2'):800,\n",
        "    ('MW1', 'LW3'):978,\n",
        "    ('MW2', 'LW1'):776,\n",
        "    ('MW2', 'LW2'):780,\n",
        "    ('MW2', 'LW3'):898,\n",
        "    ('MW1', 'DC1'):1976,\n",
        "    ('MW1', 'DC2'):969,\n",
        "    ('MW1', 'DC3'):765,\n",
        "    ('MW2', 'DC1'):1874,\n",
        "    ('MW2', 'DC2'):699,\n",
        "    ('MW2', 'DC3'):780,\n",
        "    ('LW1', 'DC1'):0,\n",
        "    ('LW1', 'DC2'):1813,\n",
        "    ('LW1', 'DC3'):0,\n",
        "    ('LW2', 'DC1'):0,\n",
        "    ('LW2', 'DC2'):0,\n",
        "    ('LW2', 'DC3'):1768,\n",
        "    ('LW3', 'DC1'):1798,\n",
        "    ('LW3', 'DC2'):0,\n",
        "    ('LW3', 'DC3'):0}"
      ],
      "metadata": {
        "id": "UVk9lWC79ef8"
      },
      "id": "UVk9lWC79ef8",
      "execution_count": null,
      "outputs": []
    },
    {
      "cell_type": "markdown",
      "source": [
        "### Data Scenario 3"
      ],
      "metadata": {
        "id": "Xqr4-NdM-rom"
      },
      "id": "Xqr4-NdM-rom"
    },
    {
      "cell_type": "code",
      "source": [
        "tmain3 = {'MW1': 2500,'MW2': 5200}\n",
        "pmain3 = {('MW1','Groceries'):2200,\n",
        "          ('MW1','Electronics'):1000,\n",
        "          ('MW2','Groceries'):3200,\n",
        "          ('MW2','Electronics'):3000}\n",
        "tlocal3 = {'LW1': 1940,'LW2': 1820, 'LW3':1900}\n",
        "plocal3 = {('LW1','Groceries'):1500,\n",
        "           ('LW1','Electronics'):600,\n",
        "           ('LW2','Groceries'):1400,\n",
        "           ('LW2','Electronics'):570,\n",
        "           ('LW3','Groceries'):1450,\n",
        "           ('LW3','Electronics'):630}\n",
        "fixedcost3 = {'MW1': 7161,'MW2': 8157,'LW1': 1125,'LW2': 1626, 'LW3': 1839}\n",
        "tdemand3 = {'DC1':3350,'DC2':1580,'DC3':1440}\n",
        "pdemand3 = {('DC1','Groceries'):1850,\n",
        "           ('DC1','Electronics'):1500,\n",
        "           ('DC2','Groceries'): 1350,\n",
        "           ('DC2','Electronics'):230,\n",
        "           ('DC3','Groceries'):1100,\n",
        "           ('DC3','Electronics'):300}\n",
        "\n",
        "\n",
        "#reorganizing the arcs\n",
        "\n",
        "\n",
        "cost3 = {('MW1', 'LW1','Groceries'):0.4,\n",
        "    ('MW1', 'LW2','Groceries'):0.5,\n",
        "    ('MW1', 'LW3','Groceries'):0.1,\n",
        "    ('MW2', 'LW1','Groceries'):0.3,\n",
        "    ('MW2', 'LW2','Groceries'):0.6,\n",
        "    ('MW2', 'LW3','Groceries'):0.3,\n",
        "    ('MW1', 'DC1','Groceries'):1.7,\n",
        "    ('MW1', 'DC2','Groceries'):2.3,\n",
        "    ('MW1', 'DC3','Groceries'):3.2,\n",
        "    ('MW2', 'DC1','Groceries'):2.8,\n",
        "    ('MW2', 'DC2','Groceries'):2.5,\n",
        "    ('MW2', 'DC3','Groceries'):2.9,\n",
        "    ('LW1', 'DC1','Groceries'):1000,\n",
        "    ('LW1', 'DC2','Groceries'):0.6,\n",
        "    ('LW1', 'DC3','Groceries'):1000,\n",
        "    ('LW2', 'DC3','Groceries'):0.9,\n",
        "    ('LW2', 'DC1','Groceries'):1000,\n",
        "    ('LW2', 'DC2','Groceries'):1000,\n",
        "    ('LW3', 'DC1','Groceries'):0.7,\n",
        "    ('LW3', 'DC2','Groceries'):1000,\n",
        "    ('LW3', 'DC3','Groceries'):1000,\n",
        "    ('MW1', 'LW1','Electronics'):0.9,\n",
        "    ('MW1', 'LW2','Electronics'):1.0,\n",
        "    ('MW1', 'LW3','Electronics'):0.6,\n",
        "    ('MW2', 'LW1','Electronics'):0.8,\n",
        "    ('MW2', 'LW2','Electronics'):1.1,\n",
        "    ('MW2', 'LW3','Electronics'):0.8,\n",
        "    ('MW1', 'DC1','Electronics'):2.2,\n",
        "    ('MW1', 'DC2','Electronics'):2.8,\n",
        "    ('MW1', 'DC3','Electronics'):3.7,\n",
        "    ('MW2', 'DC1','Electronics'):3.3,\n",
        "    ('MW2', 'DC2','Electronics'):3.0,\n",
        "    ('MW2', 'DC3','Electronics'):3.4,\n",
        "    ('LW1', 'DC1','Electronics'):1000,\n",
        "    ('LW1', 'DC2','Electronics'):1.1,\n",
        "    ('LW1', 'DC3','Electronics'):1000,\n",
        "    ('LW2', 'DC3','Electronics'):1.4,\n",
        "    ('LW2', 'DC1','Electronics'):1000,\n",
        "    ('LW2', 'DC2','Electronics'):1000,\n",
        "    ('LW3', 'DC1','Electronics'):1.2,\n",
        "    ('LW3', 'DC2','Electronics'):1000,\n",
        "    ('LW3', 'DC3','Electronics'):1000}\n",
        "\n",
        "cap3 = {('MW1', 'LW1','Groceries'):915,  #FLOW CAPACITY..... #volume\n",
        "    ('MW1', 'LW2','Groceries'):800,\n",
        "    ('MW1', 'LW3','Groceries'):978,\n",
        "    ('MW2', 'LW1','Groceries'):776,\n",
        "    ('MW2', 'LW2','Groceries'):780,\n",
        "    ('MW2', 'LW3','Groceries'):898,\n",
        "    ('MW1', 'DC1','Groceries'):1976,\n",
        "    ('MW1', 'DC2','Groceries'):969,\n",
        "    ('MW1', 'DC3','Groceries'):765,\n",
        "    ('MW2', 'DC1','Groceries'):1874,\n",
        "    ('MW2', 'DC2','Groceries'):699,\n",
        "    ('MW2', 'DC3','Groceries'):780,\n",
        "    ('LW1', 'DC1','Groceries'):0,\n",
        "    ('LW1', 'DC2','Groceries'):1813,\n",
        "    ('LW1', 'DC3','Groceries'):0,\n",
        "    ('LW2', 'DC1','Groceries'):0,\n",
        "    ('LW2', 'DC2','Groceries'):0,\n",
        "    ('LW2', 'DC3','Groceries'):1768,\n",
        "    ('LW3', 'DC1','Groceries'):1798,\n",
        "    ('LW3', 'DC2','Groceries'):0,\n",
        "    ('LW3', 'DC3','Groceries'):0,\n",
        "    ('MW1', 'LW1','Electronics'):458,\n",
        "    ('MW1', 'LW2','Electronics'):400,\n",
        "    ('MW1', 'LW3','Electronics'):489,\n",
        "    ('MW2', 'LW1','Electronics'):388,\n",
        "    ('MW2', 'LW2','Electronics'):390,\n",
        "    ('MW2', 'LW3','Electronics'):450,\n",
        "    ('MW1', 'DC1','Electronics'):989,\n",
        "    ('MW1', 'DC2','Electronics'):485,\n",
        "    ('MW1', 'DC3','Electronics'):383,\n",
        "    ('MW2', 'DC1','Electronics'):937,\n",
        "    ('MW2', 'DC2','Electronics'):350,\n",
        "    ('MW2', 'DC3','Electronics'):390,\n",
        "    ('LW1', 'DC1','Electronics'):0,\n",
        "    ('LW1', 'DC2','Electronics'):907,\n",
        "    ('LW1', 'DC3','Electronics'):0,\n",
        "    ('LW2', 'DC1','Electronics'):0,\n",
        "    ('LW2', 'DC2','Electronics'):0,\n",
        "    ('LW2', 'DC3','Electronics'):884,\n",
        "    ('LW3', 'DC1','Electronics'):899,\n",
        "    ('LW3', 'DC2','Electronics'):0,\n",
        "    ('LW3', 'DC3','Electronics'):0}"
      ],
      "metadata": {
        "id": "0L3fjzUG-mdm"
      },
      "id": "0L3fjzUG-mdm",
      "execution_count": null,
      "outputs": []
    },
    {
      "cell_type": "markdown",
      "id": "6863ce2d-9271-45f6-ae45-9ea9bc62f601",
      "metadata": {
        "tags": [],
        "id": "6863ce2d-9271-45f6-ae45-9ea9bc62f601"
      },
      "source": [
        "# 5 - Scenario 1\n",
        "*Fill in a section like this for each scenario*"
      ]
    },
    {
      "cell_type": "markdown",
      "id": "3ef583b8-74e5-4d8a-baf3-344424dacbbe",
      "metadata": {
        "tags": [],
        "id": "3ef583b8-74e5-4d8a-baf3-344424dacbbe"
      },
      "source": [
        "## 5.1 - Mathematical model\n",
        "*Use this subsection to present the code of the main mathematical model for the considered problem*"
      ]
    },
    {
      "cell_type": "markdown",
      "id": "2e772f26-2115-43a5-89e2-5c9a690cb3cb",
      "metadata": {
        "tags": [],
        "id": "2e772f26-2115-43a5-89e2-5c9a690cb3cb"
      },
      "source": [
        "### 5.1.1 - Preliminary operations : Load packages and set the environment"
      ]
    },
    {
      "cell_type": "code",
      "execution_count": null,
      "id": "8e0f4bf6-4ea7-436c-b649-00272c12018b",
      "metadata": {
        "tags": [],
        "id": "8e0f4bf6-4ea7-436c-b649-00272c12018b",
        "colab": {
          "base_uri": "https://localhost:8080/"
        },
        "outputId": "98dc5217-54c8-415e-f623-ca19e086df8f"
      },
      "outputs": [
        {
          "output_type": "stream",
          "name": "stdout",
          "text": [
            "\u001b[2K     \u001b[90m━━━━━━━━━━━━━━━━━━━━━━━━━━━━━━━━━━━━━━━━\u001b[0m \u001b[32m10.7/10.7 MB\u001b[0m \u001b[31m51.4 MB/s\u001b[0m eta \u001b[36m0:00:00\u001b[0m\n",
            "\u001b[2K     \u001b[90m━━━━━━━━━━━━━━━━━━━━━━━━━━━━━━━━━━━━━━━━\u001b[0m \u001b[32m49.6/49.6 kB\u001b[0m \u001b[31m2.9 MB/s\u001b[0m eta \u001b[36m0:00:00\u001b[0m\n",
            "\u001b[?25hSelecting previously unselected package coinor-libcoinutils3v5.\n",
            "(Reading database ... 122518 files and directories currently installed.)\n",
            "Preparing to unpack .../0-coinor-libcoinutils3v5_2.11.4+repack1-1_amd64.deb ...\n",
            "Unpacking coinor-libcoinutils3v5 (2.11.4+repack1-1) ...\n",
            "Selecting previously unselected package coinor-libosi1v5.\n",
            "Preparing to unpack .../1-coinor-libosi1v5_0.108.6+repack1-1_amd64.deb ...\n",
            "Unpacking coinor-libosi1v5 (0.108.6+repack1-1) ...\n",
            "Selecting previously unselected package coinor-libclp1.\n",
            "Preparing to unpack .../2-coinor-libclp1_1.17.5+repack1-1_amd64.deb ...\n",
            "Unpacking coinor-libclp1 (1.17.5+repack1-1) ...\n",
            "Selecting previously unselected package coinor-libcgl1.\n",
            "Preparing to unpack .../3-coinor-libcgl1_0.60.3+repack1-2_amd64.deb ...\n",
            "Unpacking coinor-libcgl1 (0.60.3+repack1-2) ...\n",
            "Selecting previously unselected package coinor-libcbc3.\n",
            "Preparing to unpack .../4-coinor-libcbc3_2.10.3+repack1-1build1_amd64.deb ...\n",
            "Unpacking coinor-libcbc3 (2.10.3+repack1-1build1) ...\n",
            "Selecting previously unselected package coinor-cbc.\n",
            "Preparing to unpack .../5-coinor-cbc_2.10.3+repack1-1build1_amd64.deb ...\n",
            "Unpacking coinor-cbc (2.10.3+repack1-1build1) ...\n",
            "Setting up coinor-libcoinutils3v5 (2.11.4+repack1-1) ...\n",
            "Setting up coinor-libosi1v5 (0.108.6+repack1-1) ...\n",
            "Setting up coinor-libclp1 (1.17.5+repack1-1) ...\n",
            "Setting up coinor-libcgl1 (0.60.3+repack1-2) ...\n",
            "Setting up coinor-libcbc3 (2.10.3+repack1-1build1) ...\n",
            "Setting up coinor-cbc (2.10.3+repack1-1build1) ...\n",
            "Processing triggers for man-db (2.9.1-1) ...\n",
            "Processing triggers for libc-bin (2.31-0ubuntu9.9) ...\n",
            "Mounted at /content/drive\n"
          ]
        }
      ],
      "source": [
        "working_in_colab = True # Set this variable equal to True if you are working in Colab, False otherwise\n",
        "\n",
        "if working_in_colab:\n",
        "    # On Colab only\n",
        "    # This needs to be done once at the start of each session.\n",
        "    !pip install -q pyomo              # Quiet installation of pyomo using pip.\n",
        "    !apt-get install -y -qq coinor-cbc # Installation of COIN-OR CBC.\n",
        "    from google.colab import drive\n",
        "    drive.mount('/content/drive', force_remount=True)   # Mount your drive"
      ]
    },
    {
      "cell_type": "code",
      "source": [
        "import pyomo.environ as pyo\n",
        "from pyomo.environ import *\n",
        "import pandas as pd\n",
        "import folium"
      ],
      "metadata": {
        "id": "5tC-9Kht3iuD"
      },
      "id": "5tC-9Kht3iuD",
      "execution_count": null,
      "outputs": []
    },
    {
      "cell_type": "code",
      "source": [
        "if working_in_colab:\n",
        "    input_directory = \"/content/drive/MyDrive/Colab Notebooks 2/Managerial decision making\"\n",
        "    output_directory = \"/content/drive/MyDrive/Colab Notebooks 2/Managerial decision making\"\n",
        "    cbc_path = \"/usr/bin/cbc\"\n",
        "else:\n",
        "    input_directory = \"./Input/\"\n",
        "    output_directory = \"./Output/\"\n",
        "    cbc_path = \"C:/Program Files/Cbc/bin/cbc.exe\" # write the path of the cbc.exe file on your pc"
      ],
      "metadata": {
        "id": "v6oFimxE3mhy"
      },
      "id": "v6oFimxE3mhy",
      "execution_count": null,
      "outputs": []
    },
    {
      "cell_type": "markdown",
      "id": "a28bf00b-4188-474a-8bac-01cb6bd89524",
      "metadata": {
        "id": "a28bf00b-4188-474a-8bac-01cb6bd89524"
      },
      "source": [
        "### 5.1.2 - Sets"
      ]
    },
    {
      "cell_type": "code",
      "execution_count": null,
      "id": "f42502c8-108d-4750-93c4-c0ff31b2e346",
      "metadata": {
        "tags": [],
        "id": "f42502c8-108d-4750-93c4-c0ff31b2e346"
      },
      "outputs": [],
      "source": [
        "model_scenario1 = pyo.ConcreteModel(name=\"SupplyNetworkDesignScenario1\")\n",
        "model_scenario1.mw = pyo.Set(initialize=main1.keys(),doc=\"Main Warehouse\")\n",
        "model_scenario1.lw = pyo.Set(initialize=local1.keys(),doc=\"Local Warehouse\")\n",
        "model_scenario1.dc = pyo.Set(initialize=demand1.keys(),doc=\"Distribution Center\")"
      ]
    },
    {
      "cell_type": "markdown",
      "id": "75643730-4845-4471-8845-496975871020",
      "metadata": {
        "id": "75643730-4845-4471-8845-496975871020"
      },
      "source": [
        "### 5.1.3 - Parameters\n",
        "*Comment the code in the next cell that reads the data described in Section 5 and defines the dictionaries and/or frames used in the model.*"
      ]
    },
    {
      "cell_type": "code",
      "execution_count": null,
      "id": "2d3cb211-6dfb-470f-873e-79f241a6fb7c",
      "metadata": {
        "tags": [],
        "id": "2d3cb211-6dfb-470f-873e-79f241a6fb7c"
      },
      "outputs": [],
      "source": [
        "# code that reads the input data files\n",
        "\n",
        "# code that defines the dictionaries and/or frames used in the model."
      ]
    },
    {
      "cell_type": "markdown",
      "id": "900d99bb-96e2-440b-98a2-f3d23e4f229a",
      "metadata": {
        "tags": [],
        "id": "900d99bb-96e2-440b-98a2-f3d23e4f229a"
      },
      "source": [
        "### 5.1.4 - Variables\n",
        "\n",
        "*Comment the code in the next cell that defines the variables of the model.*<br>\n",
        "*Specifically, indicate whether the variables are:*\n",
        "- *Decision variables, i.e., they model the DMs' decisions, or*\n",
        "- *Auxiliary variables, i.e., they are used, for example, to linearize the model objectives/constraints.*<br>\n",
        "*Specify the meaning and the nature (continuous, integer of binary) of each variable.*"
      ]
    },
    {
      "cell_type": "code",
      "execution_count": null,
      "id": "982286eb-e43d-4745-8218-a34ffb28f464",
      "metadata": {
        "tags": [],
        "id": "982286eb-e43d-4745-8218-a34ffb28f464"
      },
      "outputs": [],
      "source": [
        "model_scenario1.x = pyo.Var(model_scenario1.mw,model_scenario1.lw,within=pyo.NonNegativeReals,doc=\"Flow from Main Warehouse to Local Warehouse\")\n",
        "model_scenario1.y = pyo.Var(model_scenario1.mw,model_scenario1.dc,within=pyo.NonNegativeReals,doc=\"Flow from Main Warehouse to Distribution Center\")\n",
        "model_scenario1.z = pyo.Var(model_scenario1.lw,model_scenario1.dc,within=pyo.NonNegativeReals,doc=\"Flow from Local Warehouse to Distribution Center\")"
      ]
    },
    {
      "cell_type": "markdown",
      "id": "a5c0e162-6479-437d-abf9-57887bc56330",
      "metadata": {
        "tags": [],
        "id": "a5c0e162-6479-437d-abf9-57887bc56330"
      },
      "source": [
        "### 5.1.5 - Constraints and Objective(s)\n",
        "*Comment the code in the next cell that defines the objectives and the constraints of the model.*<br>"
      ]
    },
    {
      "cell_type": "code",
      "execution_count": null,
      "id": "b17af8cd-6da1-496d-ac8b-289e045688d9",
      "metadata": {
        "tags": [],
        "id": "b17af8cd-6da1-496d-ac8b-289e045688d9"
      },
      "outputs": [],
      "source": [
        "#define the model objective scenario 1\n",
        "model_scenario1.obj = pyo.Objective(expr=sum(fixedcost1[c] for c in model_scenario1.mw)+ #fixedcost for main warehouse\n",
        "                                    sum(fixedcost1[c] for c in model_scenario1.lw)+ #fixedcost for local warehouse\n",
        "                                    sum(cost1[m,l]*model_scenario1.x[m,l] for m in model_scenario1.mw for l in model_scenario1.lw)+ # total cost of transportation from main warehouse to localwarehouse\n",
        "                                    sum(cost1[m,d]*model_scenario1.y[m,d] for m in model_scenario1.mw for d in model_scenario1.dc)+ #total cost of transportation from main warehouse to distribution center\n",
        "                                    sum(cost1[l,d]*model_scenario1.z[l,d] for l in model_scenario1.lw for d in model_scenario1.dc),sense = pyo.minimize) #total cost of transportation from local warehouse to distribution center\n",
        "\n",
        "#Constraint\n",
        "\n",
        "#Main Warehouse Capacity Constraint\n",
        "#Shipments from all sources can not exceed the manufacturing capacity of the source.\n",
        "@model_scenario1.Constraint(model_scenario1.mw)\n",
        "def mw_constraint_rule(model,m):\n",
        "  return sum(model_scenario1.x[m,l] for l in model_scenario1.lw) + sum(model_scenario1.y[m,d] for d in model_scenario1.dc) <= main1[m]\n",
        "\n",
        "#Distribution Center Satisfying\n",
        "@model_scenario1.Constraint(model_scenario1.dc)\n",
        "def dc_constraint_rule(model,d):\n",
        "  return sum(model_scenario1.y[m,d] for m in model_scenario1.mw) + sum(model_scenario1.z[l,d] for l in model_scenario1.lw) >= demand1[d]\n",
        "\n",
        "#Local Warehouse Flow Conservation\n",
        "@model_scenario1.Constraint(model_scenario1.lw)\n",
        "def local_flow_rule(model,l):\n",
        "  return sum(model_scenario1.x[m,l] for m in model_scenario1.mw) == sum(model_scenario1.z[l,d] for d in model_scenario1.dc)\n",
        "\n",
        "#Local Warehouse Capacity\n",
        "@model_scenario1.Constraint(model_scenario1.lw)\n",
        "def local_constraint_rule(model,l):\n",
        "  return sum(model_scenario1.x[m,l] for m in model_scenario1.mw) <= local1[l]\n",
        "\n",
        "#Flow Capacity Constraints Main Warehouse to Local Warehouse\n",
        "@model_scenario1.Constraint(main1.keys(),local1.keys())\n",
        "def ml_capacity_rule(model,main,local):\n",
        "  if cap1[main,local] >= 0 :\n",
        "    return model_scenario1.x[main,local] <= cap1[main,local]\n",
        "  return pyo.Constraint.Skip\n",
        "\n",
        "#Flow Capacity Constraints Main Warehouse to Distribution Center\n",
        "@model_scenario1.Constraint(main1.keys(),demand1.keys())\n",
        "def md_capacity_rule(model,main,demand):\n",
        "  if cap1[main,demand] >= 0 :\n",
        "    return model_scenario1.y[main,demand] <= cap1[main,demand]\n",
        "  return pyo.Constraint.Skip\n",
        "\n",
        "#Flow Capacity Constraints Local Warehouse to Distribution Center\n",
        "@model_scenario1.Constraint(local1.keys(),demand1.keys())\n",
        "def ld_capacity_rule(model,local,demand):\n",
        "  if cap1[local,demand] >= 0 :\n",
        "    return model_scenario1.z[local,demand] <= cap1[local,demand]\n",
        "  return pyo.Constraint.Skip"
      ]
    },
    {
      "cell_type": "markdown",
      "source": [],
      "metadata": {
        "id": "VsK5f-BltTRQ"
      },
      "id": "VsK5f-BltTRQ"
    },
    {
      "cell_type": "markdown",
      "id": "7fbe00bb-b1f8-44d6-93fb-a9c0e5420b6e",
      "metadata": {
        "jp-MarkdownHeadingCollapsed": true,
        "tags": [],
        "id": "7fbe00bb-b1f8-44d6-93fb-a9c0e5420b6e"
      },
      "source": [
        "## 5.2 - Model solution\n",
        "*Comment the code in the next cell that calls the functions that solve the model and stores the values of the variables.*"
      ]
    },
    {
      "cell_type": "code",
      "execution_count": null,
      "id": "60964f84-5217-4dff-863f-43f8f6385ece",
      "metadata": {
        "tags": [],
        "id": "60964f84-5217-4dff-863f-43f8f6385ece",
        "colab": {
          "base_uri": "https://localhost:8080/"
        },
        "outputId": "9f620aa2-d455-4429-86dc-42fb8993bba3"
      },
      "outputs": [
        {
          "output_type": "stream",
          "name": "stdout",
          "text": [
            "Welcome to the CBC MILP Solver \n",
            "Version: 2.10.3 \n",
            "Build Date: Mar 24 2020 \n",
            "\n",
            "command line - /usr/bin/cbc -printingOptions all -import /tmp/tmpgezvt9sy.pyomo.lp -stat=1 -solve -solu /tmp/tmpgezvt9sy.pyomo.soln (default strategy 1)\n",
            "Option for printingOptions changed from normal to all\n",
            "Presolve 6 (-20) rows, 12 (-5) columns and 19 (-34) elements\n",
            "Statistics for presolved model\n",
            "\n",
            "\n",
            "Problem has 6 rows, 12 columns (12 with objective) and 19 elements\n",
            "There are 5 singletons with objective \n",
            "Column breakdown:\n",
            "0 of type 0.0->inf, 12 of type 0.0->up, 0 of type lo->inf, \n",
            "0 of type lo->up, 0 of type free, 0 of type fixed, \n",
            "0 of type -inf->0.0, 0 of type -inf->up, 0 of type 0.0->1.0 \n",
            "Row breakdown:\n",
            "2 of type E 0.0, 0 of type E 1.0, 0 of type E -1.0, \n",
            "0 of type E other, 0 of type G 0.0, 0 of type G 1.0, \n",
            "3 of type G other, 0 of type L 0.0, 0 of type L 1.0, \n",
            "1 of type L other, 0 of type Range 0.0->1.0, 0 of type Range other, \n",
            "0 of type Free \n",
            "Presolve 6 (-20) rows, 12 (-5) columns and 19 (-34) elements\n",
            "0  Obj 18181.12 Primal inf 4612.3001 (3)\n",
            "7  Obj 26455.7\n",
            "Optimal - objective value 26455.7\n",
            "After Postsolve, objective 26455.7, infeasibilities - dual 0 (0), primal 0 (0)\n",
            "Optimal objective 26455.7 - 7 iterations time 0.002, Presolve 0.00\n",
            "Total time (CPU seconds):       0.00   (Wallclock seconds):       0.00\n",
            "\n",
            "\n",
            "Optimal solution found\n",
            "\n",
            "Object function value =  <pyomo.core.base.block._generic_component_decorator object at 0x7f976f494c70>\n",
            "x : Flow from Main Warehouse to Local Warehouse\n",
            "    Size=4, Index=x_index\n",
            "    Key            : Lower : Value : Upper : Fixed : Stale : Domain\n",
            "    ('MW1', 'LW1') :     0 :  37.0 :  None : False : False : NonNegativeReals\n",
            "    ('MW1', 'LW2') :     0 :   0.0 :  None : False : False : NonNegativeReals\n",
            "    ('MW2', 'LW1') :     0 : 776.0 :  None : False : False : NonNegativeReals\n",
            "    ('MW2', 'LW2') :     0 : 768.0 :  None : False : False : NonNegativeReals\n",
            "y : Flow from Main Warehouse to Distribution Center\n",
            "    Size=6, Index=y_index\n",
            "    Key            : Lower : Value  : Upper : Fixed : Stale : Domain\n",
            "    ('MW1', 'DC1') :     0 : 1976.0 :  None : False : False : NonNegativeReals\n",
            "    ('MW1', 'DC2') :     0 :  487.0 :  None : False : False : NonNegativeReals\n",
            "    ('MW1', 'DC3') :     0 :    0.0 :  None : False : False : NonNegativeReals\n",
            "    ('MW2', 'DC1') :     0 :  174.0 :  None : False : False : NonNegativeReals\n",
            "    ('MW2', 'DC2') :     0 :  280.0 :  None : False : False : NonNegativeReals\n",
            "    ('MW2', 'DC3') :     0 :  632.0 :  None : False : False : NonNegativeReals\n",
            "z : Flow from Local Warehouse to Distribution Center\n",
            "    Size=6, Index=z_index\n",
            "    Key            : Lower : Value : Upper : Fixed : Stale : Domain\n",
            "    ('LW1', 'DC1') :     0 :   0.0 :  None : False : False : NonNegativeReals\n",
            "    ('LW1', 'DC2') :     0 : 813.0 :  None : False : False : NonNegativeReals\n",
            "    ('LW1', 'DC3') :     0 :   0.0 :  None : False : False : NonNegativeReals\n",
            "    ('LW2', 'DC1') :     0 :   0.0 :  None : False : False : NonNegativeReals\n",
            "    ('LW2', 'DC2') :     0 :   0.0 :  None : False : False : NonNegativeReals\n",
            "    ('LW2', 'DC3') :     0 : 768.0 :  None : False : False : NonNegativeReals\n"
          ]
        }
      ],
      "source": [
        "opt = pyo.SolverFactory('cbc', executable=cbc_path)\n",
        "results = opt.solve(model_scenario1, tee=True)\n",
        "\n",
        "# display solution\n",
        "\n",
        "if (results.solver.status == pyo.SolverStatus.ok) and (results.solver.termination_condition == pyo.TerminationCondition.optimal):\n",
        "    print('\\nOptimal solution found')\n",
        "elif (results.solver.termination_condition == pyo.TerminationCondition.feasible):\n",
        "    print('\\nFeasible but not proven optimal solution found')\n",
        "elif (results.solver.termination_condition == pyo.TerminationCondition.infeasible):\n",
        "    raise Exception(\"The model is infeasible\")\n",
        "else:\n",
        "    # Something else is wrong\n",
        "    print('\\nSolver Status: ',  results.solver.status)\n",
        "    raise Exception(results.solver.status)\n",
        "\n",
        "\n",
        "# display solution\n",
        "print('\\nObject function value = ', model_scenario1.Objective())\n",
        "\n",
        "#print('\\nDecision Variables')\n",
        "#for a in arcs1.keys():\n",
        "#    if model_scenario1.flow[a]() > 0:\n",
        "#        print(f\"model_scenario1.flow[{a}]: {int(model_scenario1.flow[a]()):.2f}, flow_unit_cost: {arcs1[a]['flow_unit_cost']:{0:d}}\")\n",
        "\n",
        "#print('\\nConstraints')\n",
        "model_scenario1.x.display()\n",
        "model_scenario1.y.display()\n",
        "model_scenario1.z.display()"
      ]
    },
    {
      "cell_type": "markdown",
      "id": "4343fc73-7514-4741-9d20-f191a01e823f",
      "metadata": {
        "tags": [],
        "id": "4343fc73-7514-4741-9d20-f191a01e823f"
      },
      "source": [
        "## 5.3 - Analysis\n",
        "*The solution is feasible so it can be applied in the real world to see how changes in demand, fixed and variable costs etc. can affect the result of the model.*\n",
        "\n",
        "*From the result obtained we can see derive the following findings:*\n",
        "- *It is better to increase the capacity of the flow from LW1 to D2, so the company uses a cheaper way to send the product since the capacity of the LW1 can still store a higher amount of product and the transportation cost of the straight route from MW1 to D2 is more expensive.*\n",
        "\n",
        "- *Increase the capacity of the MW1 (rent more of the space). Now the capacity of storage does not allow to send anything from MW1 to D3 but in the other case sending products from there to D3 would be cheaper and it would allow to avoid the transportation to local warehouse first.*\n",
        "\n",
        "*Moreover, we observe that distribution center 1 is left without any support of the local warehouse. Considering the limited capacity of the distribution centers we may need another local warehouse serving that area because it will help ease usage of some arcs in a cheaper and more efficient way.\n",
        "Criticism of the result/ another strategy: a company can consider enlarging the number of distribution centers substantially and increase the capacity of its flow and operate through them directly since we see that sending product to the local warehouse first is not always cheap and effective.*\n"
      ]
    },
    {
      "cell_type": "markdown",
      "source": [
        "# 6 - Scenario 2"
      ],
      "metadata": {
        "id": "sIoyOpUJ5iHx"
      },
      "id": "sIoyOpUJ5iHx"
    },
    {
      "cell_type": "markdown",
      "source": [
        "## 6.1 - Mathematical model"
      ],
      "metadata": {
        "id": "nTallx4550yu"
      },
      "id": "nTallx4550yu"
    },
    {
      "cell_type": "markdown",
      "source": [
        "### 6.1.1 - Preliminary operations : Load packages and set the environment"
      ],
      "metadata": {
        "id": "NFv4OkCX6FpG"
      },
      "id": "NFv4OkCX6FpG"
    },
    {
      "cell_type": "code",
      "source": [
        "working_in_colab = True # Set this variable equal to True if you are working in Colab, False otherwise\n",
        "\n",
        "if working_in_colab:\n",
        "    # On Colab only\n",
        "    # This needs to be done once at the start of each session.\n",
        "    !pip install -q pyomo              # Quiet installation of pyomo using pip.\n",
        "    !apt-get install -y -qq coinor-cbc # Installation of COIN-OR CBC.\n",
        "    from google.colab import drive\n",
        "    drive.mount('/content/drive', force_remount=True)   # Mount your drive"
      ],
      "metadata": {
        "colab": {
          "base_uri": "https://localhost:8080/"
        },
        "id": "bC1fu2W06Q4W",
        "outputId": "9af6d28c-d093-46bd-dd2c-1dfe881a2422"
      },
      "id": "bC1fu2W06Q4W",
      "execution_count": null,
      "outputs": [
        {
          "output_type": "stream",
          "name": "stdout",
          "text": [
            "Mounted at /content/drive\n"
          ]
        }
      ]
    },
    {
      "cell_type": "code",
      "source": [
        "import pyomo.environ as pyo\n",
        "from pyomo.environ import *\n",
        "import pandas as pd\n",
        "import folium\n",
        "import json"
      ],
      "metadata": {
        "id": "MunbvBi26e0U"
      },
      "id": "MunbvBi26e0U",
      "execution_count": null,
      "outputs": []
    },
    {
      "cell_type": "code",
      "source": [
        "if working_in_colab:\n",
        "    input_directory = \"/content/drive/MyDrive/Colab Notebooks 2/Managerial decision making\"\n",
        "    output_directory = \"/content/drive/MyDrive/Colab Notebooks 2/Managerial decision making\"\n",
        "    cbc_path = \"/usr/bin/cbc\"\n",
        "else:\n",
        "    input_directory = \"./Input/\"\n",
        "    output_directory = \"./Output/\"\n",
        "    cbc_path = \"C:/Program Files/Cbc/bin/cbc.exe\" # write the path of the cbc.exe file on your pc"
      ],
      "metadata": {
        "id": "tMt0qdU56f2y"
      },
      "id": "tMt0qdU56f2y",
      "execution_count": null,
      "outputs": []
    },
    {
      "cell_type": "markdown",
      "source": [
        "### 6.1.2 - Sets"
      ],
      "metadata": {
        "id": "B3-LREUM6rIu"
      },
      "id": "B3-LREUM6rIu"
    },
    {
      "cell_type": "code",
      "source": [
        "#define the model\n",
        "model_scenario2 = pyo.ConcreteModel(name=\"SupplyNetworkDesignScenario2\")\n",
        "model_scenario2.mw = pyo.Set(initialize=main2.keys(),doc=\"Main Warehouse\")\n",
        "model_scenario2.lw = pyo.Set(initialize=local2.keys(),doc=\"Local Warehouse\")\n",
        "model_scenario2.dc = pyo.Set(initialize=demand2.keys(),doc=\"Distribution Center\")"
      ],
      "metadata": {
        "id": "j3AV3z486n_m"
      },
      "id": "j3AV3z486n_m",
      "execution_count": null,
      "outputs": []
    },
    {
      "cell_type": "markdown",
      "source": [
        "### 6.1.3 - Parameters"
      ],
      "metadata": {
        "id": "ubjh4DHf8CKL"
      },
      "id": "ubjh4DHf8CKL"
    },
    {
      "cell_type": "code",
      "source": [],
      "metadata": {
        "id": "aDhlHLht8GT7"
      },
      "id": "aDhlHLht8GT7",
      "execution_count": null,
      "outputs": []
    },
    {
      "cell_type": "markdown",
      "source": [
        "### 6.1.4 - Variables"
      ],
      "metadata": {
        "id": "MkWCjMNp8S7L"
      },
      "id": "MkWCjMNp8S7L"
    },
    {
      "cell_type": "code",
      "source": [
        "model_scenario2.x = pyo.Var(model_scenario2.mw,model_scenario2.lw,within=pyo.NonNegativeReals,doc=\"Flow from Main Warehouse to Local Warehouse\")\n",
        "model_scenario2.y = pyo.Var(model_scenario2.mw,model_scenario2.dc,within=pyo.NonNegativeReals,doc=\"Flow from Main Warehouse to Distribution Center\")\n",
        "model_scenario2.z = pyo.Var(model_scenario2.lw,model_scenario2.dc,within=pyo.NonNegativeReals,doc=\"Flow from Local Warehouse to Distribution Center\")\n",
        "model_scenario2.o = pyo.Var(model_scenario2.lw,within=pyo.Binary, doc=\"Whether to open Local Warehouse 3 or not\")\n",
        "model_scenario2.o[\"LW1\"].lb = 1\n",
        "model_scenario2.o[\"LW2\"].lb = 1\n"
      ],
      "metadata": {
        "id": "qkWvs_FF8aD6"
      },
      "id": "qkWvs_FF8aD6",
      "execution_count": null,
      "outputs": []
    },
    {
      "cell_type": "markdown",
      "source": [
        "### 6.1.5 - Constraints and Objective(s)"
      ],
      "metadata": {
        "id": "anr7bmlf8vfI"
      },
      "id": "anr7bmlf8vfI"
    },
    {
      "cell_type": "code",
      "source": [
        "# Define the model objective for scenario 1\n",
        "model_scenario2.obj = pyo.Objective(expr = sum(fixedcost2[m] for m in model_scenario2.mw)+\n",
        "                                    sum(model_scenario2.o[l] * fixedcost2[l] for l in model_scenario2.lw) +\n",
        "          sum(cost2[m,l]*model_scenario2.x[m,l] for m in model_scenario2.mw for l in model_scenario2.lw) +\n",
        "          sum(cost2[m,d]*model_scenario2.y[m,d] for m in model_scenario2.mw for d in model_scenario2.dc) +\n",
        "          sum(cost2[l,d]*model_scenario2.z[l,d] for l in model_scenario2.lw for d in model_scenario2.dc), sense = pyo.minimize)\n",
        "#Constraint\n",
        "\n",
        "#Main Warehouse Capacity Constraint\n",
        "#Shipments from all sources can not exceed the manufacturing capacity of the source.\n",
        "@model_scenario2.Constraint(model_scenario2.mw)\n",
        "def mw_constraint_rule(model,m):\n",
        "   return sum(model_scenario2.x[m,l] for l in model_scenario2.lw) + sum(model_scenario2.y[m,d] for d in model_scenario2.dc) <= main2[m]\n",
        "\n",
        "#Distribution Center Satisfying\n",
        "@model_scenario2.Constraint(model_scenario2.dc)\n",
        "def dc_constraint_rule(model,d):\n",
        "  return sum(model_scenario2.y[m,d] for m in model_scenario2.mw) + sum(model_scenario2.z[l,d] for l in model_scenario2.lw) >= demand2[d]\n",
        "\n",
        "#Local Warehouse Flow Conservation\n",
        "@model_scenario2.Constraint(model_scenario2.lw)\n",
        "def local_flow_rule(model,l):\n",
        "  return sum(model_scenario2.x[m,l] for m in model_scenario2.mw) == sum(model_scenario2.z[l,d] for d in model_scenario2.dc)\n",
        "\n",
        "#Local Warehouse Capacity\n",
        "@model_scenario2.Constraint(model_scenario2.lw)\n",
        "def local_constraint_rule(model,l):\n",
        "  return sum(model_scenario2.x[m,l] for m in model_scenario2.mw) <= local2[l]\n",
        "\n",
        "#Open Warehouse Constraint\n",
        "#The second set limits the product passing through the lw to be at most equal the throughput of that lw, or 0 if the lw isn't open.\n",
        "@model_scenario2.Constraint(model_scenario2.lw)\n",
        "def open_localwarehouse_rule(model,l):\n",
        "  return sum(model_scenario2.z[l,d] for d in model_scenario2.dc) <= local2[l]*model_scenario2.o[l]\n",
        "\n",
        "#Finally, there's a limit of at most 3 open local warehouses\n",
        "@model_scenario2.Constraint(model_scenario2.lw)\n",
        "def max_local_rule(model,l):\n",
        "  return sum(model_scenario2.o[l] for l in model_scenario2.lw) <= 3\n",
        "\n",
        "#Flow Capacity Constraints Main Warehouse to Local Warehouse\n",
        "@model_scenario2.Constraint(main2.keys(),local2.keys())\n",
        "def ml_capacity_rule(model,main,local):\n",
        "  if cap2[main,local] >= 0 :\n",
        "    return model_scenario2.x[main,local] <= cap2[main,local]\n",
        "  return pyo.Constraint.Skip\n",
        "\n",
        "#Flow Capacity Constraints Main Warehouse to Distribution Center\n",
        "@model_scenario2.Constraint(main2.keys(),demand2.keys())\n",
        "def md_capacity_rule(model,main,demand):\n",
        "  if cap2[main,demand] >= 0 :\n",
        "    return model_scenario2.y[main,demand] <= cap2[main,demand]\n",
        "  return pyo.Constraint.Skip\n",
        "\n",
        "#Flow Capacity Constraints Local Warehouse to Distribution Center\n",
        "@model_scenario2.Constraint(local2.keys(),demand2.keys())\n",
        "def ld_capacity_rule(model,local,demand):\n",
        "  if cap2[local,demand] >= 0 :\n",
        "    return model_scenario2.z[local,demand] <= cap2[local,demand]\n",
        "  return pyo.Constraint.Skip"
      ],
      "metadata": {
        "id": "TumMrrTn8z-Z"
      },
      "id": "TumMrrTn8z-Z",
      "execution_count": null,
      "outputs": []
    },
    {
      "cell_type": "markdown",
      "source": [
        "## 6.2 Model Solution"
      ],
      "metadata": {
        "id": "6UxfvZCJ-C8f"
      },
      "id": "6UxfvZCJ-C8f"
    },
    {
      "cell_type": "code",
      "source": [
        "opt = pyo.SolverFactory('cbc', executable=cbc_path)\n",
        "results = opt.solve(model_scenario2, tee=True)\n",
        "\n",
        "# display solution\n",
        "\n",
        "if (results.solver.status == pyo.SolverStatus.ok) and (results.solver.termination_condition == pyo.TerminationCondition.optimal):\n",
        "    print('\\nOptimal solution found')\n",
        "elif (results.solver.termination_condition == pyo.TerminationCondition.feasible):\n",
        "    print('\\nFeasible but not proven optimal solution found')\n",
        "elif (results.solver.termination_condition == pyo.TerminationCondition.infeasible):\n",
        "    raise Exception(\"The model is infeasible\")\n",
        "else:\n",
        "    # Something else is wrong\n",
        "    print('\\nSolver Status: ',  results.solver.status)\n",
        "    raise Exception(results.solver.status)\n",
        "\n",
        "\n",
        "# display solution\n",
        "print('\\nObject function value = ', model_scenario2.Objective())\n",
        "\n",
        "#print('\\nDecision Variables')\n",
        "#for a in arcs1.keys():\n",
        "#    if model_scenario1.flow[a]() > 0:\n",
        "#        print(f\"model_scenario1.flow[{a}]: {int(model_scenario1.flow[a]()):.2f}, flow_unit_cost: {arcs1[a]['flow_unit_cost']:{0:d}}\")\n",
        "\n",
        "#print('\\nConstraints')\n",
        "model_scenario2.x.display()\n",
        "model_scenario2.y.display()\n",
        "model_scenario2.z.display()\n",
        "model_scenario2.o.display()"
      ],
      "metadata": {
        "colab": {
          "base_uri": "https://localhost:8080/"
        },
        "id": "yrxre8Ts-JsN",
        "outputId": "70ec09d9-2180-4d95-bcd7-3183aa132731"
      },
      "id": "yrxre8Ts-JsN",
      "execution_count": null,
      "outputs": [
        {
          "output_type": "stream",
          "name": "stdout",
          "text": [
            "Welcome to the CBC MILP Solver \n",
            "Version: 2.10.3 \n",
            "Build Date: Mar 24 2020 \n",
            "\n",
            "command line - /usr/bin/cbc -printingOptions all -import /tmp/tmpax4nrpue.pyomo.lp -stat=1 -solve -solu /tmp/tmpax4nrpue.pyomo.soln (default strategy 1)\n",
            "Option for printingOptions changed from normal to all\n",
            "Presolve 6 (-33) rows, 14 (-11) columns and 22 (-69) elements\n",
            "Statistics for presolved model\n",
            "Original problem has 1 integers (1 of which binary)\n",
            "Presolved problem has 1 integers (1 of which binary)\n",
            "==== 0 zero objective 14 different\n",
            "==== absolute objective values 14 different\n",
            "==== for integers 0 zero objective 1 different\n",
            "1 variables have objective of 1839\n",
            "==== for integers absolute objective values 1 different\n",
            "1 variables have objective of 1839\n",
            "===== end objective counts\n",
            "\n",
            "\n",
            "Problem has 6 rows, 14 columns (14 with objective) and 22 elements\n",
            "There are 7 singletons with objective \n",
            "Column breakdown:\n",
            "0 of type 0.0->inf, 13 of type 0.0->up, 0 of type lo->inf, \n",
            "0 of type lo->up, 0 of type free, 0 of type fixed, \n",
            "0 of type -inf->0.0, 0 of type -inf->up, 1 of type 0.0->1.0 \n",
            "Row breakdown:\n",
            "1 of type E 0.0, 0 of type E 1.0, 0 of type E -1.0, \n",
            "0 of type E other, 0 of type G 0.0, 0 of type G 1.0, \n",
            "3 of type G other, 1 of type L 0.0, 0 of type L 1.0, \n",
            "1 of type L other, 0 of type Range 0.0->1.0, 0 of type Range other, \n",
            "0 of type Free \n",
            "Continuous objective value is 27518.9 - 0.00 seconds\n",
            "Cgl0003I 0 fixed, 0 tightened bounds, 1 strengthened rows, 0 substitutions\n",
            "Cgl0004I processed model has 5 rows, 13 columns (1 integer (1 of which binary)) and 22 elements\n",
            "Cbc0038I Initial state - 1 integers unsatisfied sum - 0.235818\n",
            "Cbc0038I Solution found of 28028\n",
            "Cbc0038I Relaxing continuous gives 27731.2\n",
            "Cbc0038I Before mini branch and bound, 0 integers at bound fixed and 9 continuous\n",
            "Cbc0038I Mini branch and bound did not improve solution (0.00 seconds)\n",
            "Cbc0038I Freeing continuous variables gives a solution of 27731.2\n",
            "Cbc0038I Round again with cutoff of 27717.5\n",
            "Cbc0038I Pass   1: suminf.    0.02358 (1) obj. 27717.5 iterations 2\n",
            "Cbc0038I Pass   2: suminf.    0.32397 (1) obj. 27717.5 iterations 1\n",
            "Cbc0038I Pass   3: suminf.    0.32397 (1) obj. 27717.5 iterations 0\n",
            "Cbc0038I Pass   4: suminf.    0.02358 (1) obj. 27717.5 iterations 2\n",
            "Cbc0038I Pass   5: suminf.    0.32397 (1) obj. 27717.5 iterations 1\n",
            "Cbc0038I Pass   6: suminf.    0.02358 (1) obj. 27717.5 iterations 2\n",
            "Cbc0038I Pass   7: suminf.    0.02358 (1) obj. 27717.5 iterations 0\n",
            "Cbc0038I Pass   8: suminf.    0.02358 (1) obj. 27717.5 iterations 0\n",
            "Cbc0038I Pass   9: suminf.    0.02358 (1) obj. 27717.5 iterations 0\n",
            "Cbc0038I Pass  10: suminf.    0.02358 (1) obj. 27717.5 iterations 0\n",
            "Cbc0038I Pass  11: suminf.    0.02358 (1) obj. 27717.5 iterations 0\n",
            "Cbc0038I Pass  12: suminf.    0.02358 (1) obj. 27717.5 iterations 0\n",
            "Cbc0038I Pass  13: suminf.    0.02358 (1) obj. 27717.5 iterations 0\n",
            "Cbc0038I Pass  14: suminf.    0.02358 (1) obj. 27717.5 iterations 0\n",
            "Cbc0038I Pass  15: suminf.    0.02358 (1) obj. 27717.5 iterations 0\n",
            "Cbc0038I Pass  16: suminf.    0.02358 (1) obj. 27717.5 iterations 0\n",
            "Cbc0038I Pass  17: suminf.    0.02358 (1) obj. 27717.5 iterations 0\n",
            "Cbc0038I Pass  18: suminf.    0.02358 (1) obj. 27717.5 iterations 0\n",
            "Cbc0038I Pass  19: suminf.    0.02358 (1) obj. 27717.5 iterations 0\n",
            "Cbc0038I Pass  20: suminf.    0.02358 (1) obj. 27717.5 iterations 0\n",
            "Cbc0038I Pass  21: suminf.    0.02358 (1) obj. 27717.5 iterations 0\n",
            "Cbc0038I Pass  22: suminf.    0.02358 (1) obj. 27717.5 iterations 0\n",
            "Cbc0038I Pass  23: suminf.    0.02358 (1) obj. 27717.5 iterations 0\n",
            "Cbc0038I Pass  24: suminf.    0.02358 (1) obj. 27717.5 iterations 0\n",
            "Cbc0038I Pass  25: suminf.    0.02358 (1) obj. 27717.5 iterations 0\n",
            "Cbc0038I Pass  26: suminf.    0.02358 (1) obj. 27717.5 iterations 0\n",
            "Cbc0038I Pass  27: suminf.    0.02358 (1) obj. 27717.5 iterations 0\n",
            "Cbc0038I Pass  28: suminf.    0.02358 (1) obj. 27717.5 iterations 0\n",
            "Cbc0038I Pass  29: suminf.    0.02358 (1) obj. 27717.5 iterations 0\n",
            "Cbc0038I Pass  30: suminf.    0.02358 (1) obj. 27717.5 iterations 0\n",
            "Cbc0038I No solution found this major pass\n",
            "Cbc0038I Before mini branch and bound, 0 integers at bound fixed and 7 continuous\n",
            "Cbc0038I Full problem 5 rows 13 columns, reduced to 1 rows 3 columns\n",
            "Cbc0038I Mini branch and bound did not improve solution (0.01 seconds)\n",
            "Cbc0038I After 0.01 seconds - Feasibility pump exiting with objective of 27731.2 - took 0.00 seconds\n",
            "Cbc0012I Integer solution of 27731.2 found by feasibility pump after 0 iterations and 0 nodes (0.01 seconds)\n",
            "Cbc0006I The LP relaxation is infeasible or too expensive\n",
            "Cbc0013I At root node, 0 cuts changed objective from 27594.331 to 27731.2 in 1 passes\n",
            "Cbc0014I Cut generator 0 (Probing) - 0 row cuts average 0.0 elements, 1 column cuts (1 active)  in 0.000 seconds - new frequency is 1\n",
            "Cbc0014I Cut generator 1 (Gomory) - 0 row cuts average 0.0 elements, 0 column cuts (0 active)  in 0.000 seconds - new frequency is -100\n",
            "Cbc0014I Cut generator 2 (Knapsack) - 0 row cuts average 0.0 elements, 0 column cuts (0 active)  in 0.000 seconds - new frequency is -100\n",
            "Cbc0014I Cut generator 3 (Clique) - 0 row cuts average 0.0 elements, 0 column cuts (0 active)  in 0.000 seconds - new frequency is -100\n",
            "Cbc0014I Cut generator 4 (MixedIntegerRounding2) - 0 row cuts average 0.0 elements, 0 column cuts (0 active)  in 0.000 seconds - new frequency is -100\n",
            "Cbc0014I Cut generator 5 (FlowCover) - 0 row cuts average 0.0 elements, 0 column cuts (0 active)  in 0.000 seconds - new frequency is -100\n",
            "Cbc0014I Cut generator 6 (TwoMirCuts) - 0 row cuts average 0.0 elements, 0 column cuts (0 active)  in 0.000 seconds - new frequency is -100\n",
            "Cbc0014I Cut generator 7 (ZeroHalf) - 0 row cuts average 0.0 elements, 0 column cuts (0 active)  in 0.000 seconds - new frequency is -100\n",
            "Cbc0001I Search completed - best objective 27731.2, took 1 iterations and 0 nodes (0.01 seconds)\n",
            "Cbc0035I Maximum depth 0, 0 variables fixed on reduced cost\n",
            "Cuts at root node changed objective from 27594.3 to 27731.2\n",
            "Probing was tried 1 times and created 1 cuts of which 0 were active after adding rounds of cuts (0.000 seconds)\n",
            "Gomory was tried 0 times and created 0 cuts of which 0 were active after adding rounds of cuts (0.000 seconds)\n",
            "Knapsack was tried 0 times and created 0 cuts of which 0 were active after adding rounds of cuts (0.000 seconds)\n",
            "Clique was tried 0 times and created 0 cuts of which 0 were active after adding rounds of cuts (0.000 seconds)\n",
            "MixedIntegerRounding2 was tried 0 times and created 0 cuts of which 0 were active after adding rounds of cuts (0.000 seconds)\n",
            "FlowCover was tried 0 times and created 0 cuts of which 0 were active after adding rounds of cuts (0.000 seconds)\n",
            "TwoMirCuts was tried 0 times and created 0 cuts of which 0 were active after adding rounds of cuts (0.000 seconds)\n",
            "ZeroHalf was tried 0 times and created 0 cuts of which 0 were active after adding rounds of cuts (0.000 seconds)\n",
            "\n",
            "Result - Optimal solution found\n",
            "\n",
            "Objective value:                27731.20000000\n",
            "Enumerated nodes:               0\n",
            "Total iterations:               1\n",
            "Time (CPU seconds):             0.01\n",
            "Time (Wallclock seconds):       0.02\n",
            "\n",
            "Total time (CPU seconds):       0.01   (Wallclock seconds):       0.02\n",
            "\n",
            "\n",
            "Optimal solution found\n",
            "\n",
            "Object function value =  <pyomo.core.base.block._generic_component_decorator object at 0x7f976f63b2e0>\n",
            "x : Flow from Main Warehouse to Local Warehouse\n",
            "    Size=6, Index=x_index\n",
            "    Key            : Lower : Value : Upper : Fixed : Stale : Domain\n",
            "    ('MW1', 'LW1') :     0 : 804.0 :  None : False : False : NonNegativeReals\n",
            "    ('MW1', 'LW2') :     0 : 800.0 :  None : False : False : NonNegativeReals\n",
            "    ('MW1', 'LW3') :     0 : 978.0 :  None : False : False : NonNegativeReals\n",
            "    ('MW2', 'LW1') :     0 : 776.0 :  None : False : False : NonNegativeReals\n",
            "    ('MW2', 'LW2') :     0 : 640.0 :  None : False : False : NonNegativeReals\n",
            "    ('MW2', 'LW3') :     0 : 820.0 :  None : False : False : NonNegativeReals\n",
            "y : Flow from Main Warehouse to Distribution Center\n",
            "    Size=6, Index=y_index\n",
            "    Key            : Lower : Value  : Upper : Fixed : Stale : Domain\n",
            "    ('MW1', 'DC1') :     0 : 1552.0 :  None : False : False : NonNegativeReals\n",
            "    ('MW1', 'DC2') :     0 :    0.0 :  None : False : False : NonNegativeReals\n",
            "    ('MW1', 'DC3') :     0 :    0.0 :  None : False : False : NonNegativeReals\n",
            "    ('MW2', 'DC1') :     0 :    0.0 :  None : False : False : NonNegativeReals\n",
            "    ('MW2', 'DC2') :     0 :    0.0 :  None : False : False : NonNegativeReals\n",
            "    ('MW2', 'DC3') :     0 :    0.0 :  None : False : False : NonNegativeReals\n",
            "z : Flow from Local Warehouse to Distribution Center\n",
            "    Size=9, Index=z_index\n",
            "    Key            : Lower : Value  : Upper : Fixed : Stale : Domain\n",
            "    ('LW1', 'DC1') :     0 :    0.0 :  None : False : False : NonNegativeReals\n",
            "    ('LW1', 'DC2') :     0 : 1580.0 :  None : False : False : NonNegativeReals\n",
            "    ('LW1', 'DC3') :     0 :    0.0 :  None : False : False : NonNegativeReals\n",
            "    ('LW2', 'DC1') :     0 :    0.0 :  None : False : False : NonNegativeReals\n",
            "    ('LW2', 'DC2') :     0 :    0.0 :  None : False : False : NonNegativeReals\n",
            "    ('LW2', 'DC3') :     0 : 1440.0 :  None : False : False : NonNegativeReals\n",
            "    ('LW3', 'DC1') :     0 : 1798.0 :  None : False : False : NonNegativeReals\n",
            "    ('LW3', 'DC2') :     0 :    0.0 :  None : False : False : NonNegativeReals\n",
            "    ('LW3', 'DC3') :     0 :    0.0 :  None : False : False : NonNegativeReals\n",
            "o : Whether to open Local Warehouse 3 or not\n",
            "    Size=3, Index=lw\n",
            "    Key : Lower : Value : Upper : Fixed : Stale : Domain\n",
            "    LW1 :     1 :   1.0 :     1 : False : False : Binary\n",
            "    LW2 :     1 :   1.0 :     1 : False : False : Binary\n",
            "    LW3 :     0 :   1.0 :     1 : False : False : Binary\n"
          ]
        }
      ]
    },
    {
      "cell_type": "markdown",
      "source": [
        "## 6.3 Analysis"
      ],
      "metadata": {
        "id": "mWOMZdf1-Q_w"
      },
      "id": "mWOMZdf1-Q_w"
    },
    {
      "cell_type": "markdown",
      "source": [
        "*In scenario 2 demand for the product in the West part of the island increased, therefore there is a necessity in the new local warehouse there. So, now product flows from 2 main warehouses to 3 local warehouses and 3 distribution centers. It is needed not only to minimize the flow cost again, but to analyze whether it is worth it to have the 3rd local warehouse in the system or not.*\n",
        "\n",
        "*As we can see from the result, in case of the substantial increase in the demand, the opening of the new local warehouse is necessary. It adds the capacity and allows the use of a cheaper route for the transportation of the product. However, if demand remains the same as in scenario 1, the opening of the local warehouse 3 is not needed. The minimum demand at D1 for opening LW3 is 2,326 units of product. In addition, increase in the transportation cost from LW3 to D1 also leads to the closure of the LW3.*\n",
        "\n",
        "*Criticism of the result: the company may consider expanding the number of arcs and their capacities since it will make the full usage of node capacities possible. All in all, the solution is still feasible with current data and can be used in real life.*\n"
      ],
      "metadata": {
        "id": "qqsG8NWH-U64"
      },
      "id": "qqsG8NWH-U64"
    },
    {
      "cell_type": "markdown",
      "source": [
        "#7 - Scenario 3"
      ],
      "metadata": {
        "id": "Q8bHSfV8_edR"
      },
      "id": "Q8bHSfV8_edR"
    },
    {
      "cell_type": "markdown",
      "source": [
        "7.1 - Mathematical model"
      ],
      "metadata": {
        "id": "5Tr8CvkR_723"
      },
      "id": "5Tr8CvkR_723"
    },
    {
      "cell_type": "markdown",
      "source": [
        "### 7.1.1 - Preliminary operations : Load packages and set the environment"
      ],
      "metadata": {
        "id": "G3Qr4lcYAEzi"
      },
      "id": "G3Qr4lcYAEzi"
    },
    {
      "cell_type": "code",
      "source": [
        "working_in_colab = True # Set this variable equal to True if you are working in Colab, False otherwise\n",
        "\n",
        "if working_in_colab:\n",
        "    # On Colab only\n",
        "    # This needs to be done once at the start of each session.\n",
        "    !pip install -q pyomo              # Quiet installation of pyomo using pip.\n",
        "    !apt-get install -y -qq coinor-cbc # Installation of COIN-OR CBC.\n",
        "    from google.colab import drive\n",
        "    drive.mount('/content/drive', force_remount=True)   # Mount your drive"
      ],
      "metadata": {
        "colab": {
          "base_uri": "https://localhost:8080/"
        },
        "id": "EuWJpDs1AMek",
        "outputId": "77d41dce-506a-4af2-d277-1346df599aa9"
      },
      "id": "EuWJpDs1AMek",
      "execution_count": null,
      "outputs": [
        {
          "output_type": "stream",
          "name": "stdout",
          "text": [
            "Mounted at /content/drive\n"
          ]
        }
      ]
    },
    {
      "cell_type": "code",
      "source": [
        "import pyomo.environ as pyo\n",
        "from pyomo.environ import *\n",
        "import pandas as pd\n",
        "import folium\n",
        "import json"
      ],
      "metadata": {
        "id": "gDvC0HIuAUvl"
      },
      "id": "gDvC0HIuAUvl",
      "execution_count": null,
      "outputs": []
    },
    {
      "cell_type": "code",
      "source": [
        "if working_in_colab:\n",
        "    input_directory = \"/content/drive/MyDrive/Colab Notebooks 2/Managerial decision making\"\n",
        "    output_directory = \"/content/drive/MyDrive/Colab Notebooks 2/Managerial decision making\"\n",
        "    cbc_path = \"/usr/bin/cbc\"\n",
        "else:\n",
        "    input_directory = \"./Input/\"\n",
        "    output_directory = \"./Output/\"\n",
        "    cbc_path = \"C:/Program Files/Cbc/bin/cbc.exe\" # write the path of the cbc.exe file on your pc"
      ],
      "metadata": {
        "id": "9yYFqqMJAdXT"
      },
      "id": "9yYFqqMJAdXT",
      "execution_count": null,
      "outputs": []
    },
    {
      "cell_type": "markdown",
      "source": [
        "### 7.1.2 - Sets"
      ],
      "metadata": {
        "id": "-FJCmxLmA9ol"
      },
      "id": "-FJCmxLmA9ol"
    },
    {
      "cell_type": "code",
      "source": [
        "#define the model\n",
        "model_scenario3 = pyo.ConcreteModel(name=\"SupplyNetworkDesignScenario3\")\n",
        "\n",
        "#define the set\n",
        "model_scenario3.mw = pyo.Set(initialize=tmain3.keys(),doc=\"Main Warehouse\")\n",
        "model_scenario3.lw = pyo.Set(initialize=tlocal3.keys(),doc=\"Local Warehouse\")\n",
        "model_scenario3.dc = pyo.Set(initialize=tdemand3.keys(),doc=\"Distribution Center\")\n",
        "model_scenario3.pr = pyo.Set(initialize=['Groceries','Electronics'],doc=\"Type of Products\")"
      ],
      "metadata": {
        "id": "l2koi7wNA8vf"
      },
      "id": "l2koi7wNA8vf",
      "execution_count": null,
      "outputs": []
    },
    {
      "cell_type": "markdown",
      "source": [
        "### 7.1.3 - Parameters"
      ],
      "metadata": {
        "id": "QIo8RgoCBb9D"
      },
      "id": "QIo8RgoCBb9D"
    },
    {
      "cell_type": "code",
      "source": [],
      "metadata": {
        "id": "7ql8JjjPBjhz"
      },
      "id": "7ql8JjjPBjhz",
      "execution_count": null,
      "outputs": []
    },
    {
      "cell_type": "markdown",
      "source": [
        "### 7.1.4 - Variables"
      ],
      "metadata": {
        "id": "G2X_s5tdBj2i"
      },
      "id": "G2X_s5tdBj2i"
    },
    {
      "cell_type": "code",
      "source": [
        "#define the decision variable\n",
        "model_scenario3.x = pyo.Var(model_scenario3.mw,model_scenario3.lw,model_scenario3.pr,within=pyo.NonNegativeReals,doc=\"Flow from Main Warehouse to Local Warehouse\")\n",
        "model_scenario3.y = pyo.Var(model_scenario3.mw,model_scenario3.dc,model_scenario3.pr,within=pyo.NonNegativeReals,doc=\"Flow from Main Warehouse to Distribution Center\")\n",
        "model_scenario3.z = pyo.Var(model_scenario3.lw,model_scenario3.dc,model_scenario3.pr,within=pyo.NonNegativeReals,doc=\"Flow from Local Warehouse to Distribution Center\")\n",
        "model_scenario3.o = pyo.Var(model_scenario3.lw,within=pyo.Binary, doc=\"Whether to open Local Warehouse 3 or not\")\n",
        "\n",
        "#We already open Local Warehouse 1 and local Warehouse 2\n",
        "model_scenario3.o[\"LW1\"].lb = 1\n",
        "model_scenario3.o[\"LW2\"].lb = 1\n"
      ],
      "metadata": {
        "id": "O8Zx7P_eBoYF"
      },
      "id": "O8Zx7P_eBoYF",
      "execution_count": null,
      "outputs": []
    },
    {
      "cell_type": "markdown",
      "source": [
        "### 7.1.5 - Constraints and Objective(s)"
      ],
      "metadata": {
        "id": "MBtbjMn2Bwre"
      },
      "id": "MBtbjMn2Bwre"
    },
    {
      "cell_type": "code",
      "source": [
        "# Define the model objective for scenario 1\n",
        "model_scenario3.obj = pyo.Objective(expr = sum(fixedcost3[m] for m in model_scenario3.mw)+\n",
        "                                    sum(model_scenario3.o[l] * fixedcost3[l] for l in model_scenario3.lw) +\n",
        "          sum(cost3[m,l,p]*model_scenario3.x[m,l,p] for m in model_scenario3.mw for l in model_scenario3.lw for p in model_scenario3.pr) +\n",
        "          sum(cost3[m,d,p]*model_scenario3.y[m,d,p] for m in model_scenario3.mw for d in model_scenario3.dc for p in model_scenario3.pr) +\n",
        "          sum(cost3[l,d,p]*model_scenario3.z[l,d,p] for l in model_scenario3.lw for d in model_scenario3.dc for p in model_scenario3.pr), sense = pyo.minimize)\n",
        "#Constraint\n",
        "#first\n",
        "#Main Warehouse Capacity Constraint\n",
        "#Shipments from all sources can not exceed the manufacturing capacity of the source.\n",
        "@model_scenario3.Constraint(model_scenario3.mw,model_scenario3.pr)\n",
        "def mw_constraint_rule(model,m,p):\n",
        "   return sum(model_scenario3.x[m,l,p] for l in model_scenario3.lw) + sum(model_scenario3.y[m,d,p] for d in model_scenario3.dc) <= pmain3[m,p]\n",
        "#explanation\n",
        "#flow of volume form main to local of each product + flow of cvolume from main to dc of each product cannot exceed the capacity of main for\n",
        "#each product\n",
        "\n",
        "#second\n",
        "#Distribution Center Satisfying\n",
        "@model_scenario3.Constraint(model_scenario3.dc, model_scenario3.pr)\n",
        "def dc_constraint_rule(model,d,p):\n",
        "  return sum(model_scenario3.y[m,d,p] for m in model_scenario3.mw) + sum(model_scenario3.z[l,d,p] for l in model_scenario3.lw) >= pdemand3[d,p]\n",
        "#explanation\n",
        "#volume of flow form main to dc + volume of flow from local to dc has to be bigger or equal to the capppacity of demand (dc)\n",
        "\n",
        "#third\n",
        "#Local Warehouse Flow Conservation\n",
        "@model_scenario3.Constraint(model_scenario3.lw,model_scenario3.pr)\n",
        "def local_flow_rule(model,l,p):\n",
        "  return sum(model_scenario3.x[m,l,p] for m in model_scenario3.mw) == sum(model_scenario3.z[l,d,p] for d in model_scenario3.dc)\n",
        "#explanation\n",
        "#volume of flow from main to local has to be equal to the volume of flow from local to dc\n",
        "\n",
        "#fourth\n",
        "#Local Warehouse Capacity\n",
        "@model_scenario3.Constraint(model_scenario3.lw, model_scenario3.pr)\n",
        "def local_constraint_rule(model,l,p):\n",
        "  return sum(model_scenario3.x[m,l,p] for m in model_scenario3.mw) <= plocal3[l,p]\n",
        "#explanation\n",
        "#volume of flow from main to local of each product has to be less or equal to the capcity of each product in local\n",
        "\n",
        "@model_scenario3.Constraint(model_scenario3.lw)\n",
        "def local_constraint_rulep(model,l):\n",
        "  return sum(model_scenario3.x[m,l,p] for m in model_scenario3.mw for p in model_scenario3.pr) >= tlocal3[l]\n",
        "#explanation\n",
        "#sum of flow of each product from main to local should be bigger than the total capacity of the local warehouse\n",
        "\n",
        "#fifth\n",
        "#Open Warehouse Constraint\n",
        "#The second set limits the product passing through the depot to be at most equal the throughput of that deport, or 0 if the depot isn't open.\n",
        "@model_scenario3.Constraint(model_scenario3.lw)\n",
        "def open_localwarehouse_rule(model,l):\n",
        "  return sum(model_scenario3.z[l,d,p] for d in model_scenario3.dc for p in model_scenario3.pr) <= tlocal3[l]*model_scenario3.o[l]\n",
        "#explanation\n",
        "#volume flowed from local to dc has to be less or equal capcity of whatever local warehouse is open\n",
        "\n",
        "#sixth\n",
        "#Finally, there's a limit of at most 3 open depots\n",
        "@model_scenario3.Constraint(model_scenario3.lw)\n",
        "def max_local_rule(model,l):\n",
        "  return sum(model_scenario3.o[l] for l in model_scenario3.lw) <= 3\n",
        "#explanation\n",
        "#no more than than 3 local warehouses can be open\n",
        "\n",
        "#seventh\n",
        "#Flow Capacity Constraints Main Warehouse to Local Warehouse\n",
        "@model_scenario3.Constraint(tmain3.keys(),tlocal3.keys(),model_scenario3.pr)\n",
        "def ml_capacity_rule(model,main,local,product):\n",
        "  if cap3[main,local,product] >= 0 :\n",
        "    return model_scenario3.x[main,local,product] <= cap3[main,local,product]\n",
        "  return pyo.Constraint.Skip\n",
        "#explanation\n",
        "#the flow from main to local of each product has to be less than or equal to the flow from main to local of each product\n",
        "\n",
        "#eightth\n",
        "#Flow Capacity Constraints Main Warehouse to Distribution Center\n",
        "@model_scenario3.Constraint(tmain3.keys(),tdemand3.keys(),model_scenario3.pr)\n",
        "def md_capacity_rule(model,main,demand,product):\n",
        "  if cap3[main,demand,product] >= 0 :\n",
        "    return model_scenario3.y[main,demand,product] <= cap3[main,demand,product]\n",
        "  return pyo.Constraint.Skip\n",
        "#explanation\n",
        "#the flow from main to dc of each product has to be less or equal to the flow from main to dc of each product\n",
        "\n",
        "#ninth\n",
        "#Flow Capacity Constraints Local Warehouse to Distribution Center\n",
        "@model_scenario3.Constraint(tlocal3.keys(),tdemand3.keys(),model_scenario3.pr)\n",
        "def ld_capacity_rule(model,local,demand,product):\n",
        "  if cap3[local,demand,product] >= 0 :\n",
        "    return model_scenario3.z[local,demand,product] <= cap3[local,demand,product]\n",
        "  return pyo.Constraint.Skip\n",
        "#explanation\n",
        "#the flow from local to dc of each product has to be less or equal to the maximum low from local to demand"
      ],
      "metadata": {
        "id": "XR9FFERLB0hb"
      },
      "id": "XR9FFERLB0hb",
      "execution_count": null,
      "outputs": []
    },
    {
      "cell_type": "markdown",
      "source": [
        "## 7.2 Model Solution"
      ],
      "metadata": {
        "id": "xE3xvcBBCBAC"
      },
      "id": "xE3xvcBBCBAC"
    },
    {
      "cell_type": "code",
      "source": [
        "opt = pyo.SolverFactory('cbc', executable=cbc_path)\n",
        "results = opt.solve(model_scenario3, tee=True)\n",
        "\n",
        "# display solution\n",
        "\n",
        "if (results.solver.status == pyo.SolverStatus.ok) and (results.solver.termination_condition == pyo.TerminationCondition.optimal):\n",
        "    print('\\nOptimal solution found')\n",
        "elif (results.solver.termination_condition == pyo.TerminationCondition.feasible):\n",
        "    print('\\nFeasible but not proven optimal solution found')\n",
        "elif (results.solver.termination_condition == pyo.TerminationCondition.infeasible):\n",
        "    raise Exception(\"The model is infeasible\")\n",
        "else:\n",
        "    # Something else is wrong\n",
        "    print('\\nSolver Status: ',  results.solver.status)\n",
        "    raise Exception(results.solver.status)\n",
        "\n",
        "\n",
        "# display solution\n",
        "print('\\nObject function value = ', model_scenario3.Objective())\n",
        "\n",
        "#print('\\nDecision Variables')\n",
        "#for a in arcs1.keys():\n",
        "#    if model_scenario1.flow[a]() > 0:\n",
        "#        print(f\"model_scenario1.flow[{a}]: {int(model_scenario1.flow[a]()):.2f}, flow_unit_cost: {arcs1[a]['flow_unit_cost']:{0:d}}\")\n",
        "\n",
        "#print('\\nConstraints')\n",
        "model_scenario3.x.display()\n",
        "model_scenario3.y.display()\n",
        "model_scenario3.z.display()\n",
        "model_scenario3.o.display()"
      ],
      "metadata": {
        "colab": {
          "base_uri": "https://localhost:8080/"
        },
        "id": "BXYVwSS5CD7G",
        "outputId": "6a215cac-3bb6-42c0-905d-63dc67264873"
      },
      "id": "BXYVwSS5CD7G",
      "execution_count": null,
      "outputs": [
        {
          "output_type": "stream",
          "name": "stdout",
          "text": [
            "Welcome to the CBC MILP Solver \n",
            "Version: 2.10.3 \n",
            "Build Date: Mar 24 2020 \n",
            "\n",
            "command line - /usr/bin/cbc -printingOptions all -import /tmp/tmpfjes7la1.pyomo.lp -stat=1 -solve -solu /tmp/tmpfjes7la1.pyomo.soln (default strategy 1)\n",
            "Option for printingOptions changed from normal to all\n",
            "Presolve 23 (-51) rows, 27 (-19) columns and 81 (-100) elements\n",
            "Statistics for presolved model\n",
            "Original problem has 1 integers (1 of which binary)\n",
            "Presolved problem has 1 integers (1 of which binary)\n",
            "==== 0 zero objective 25 different\n",
            "==== absolute objective values 25 different\n",
            "==== for integers 0 zero objective 1 different\n",
            "1 variables have objective of 1839\n",
            "==== for integers absolute objective values 1 different\n",
            "1 variables have objective of 1839\n",
            "===== end objective counts\n",
            "\n",
            "\n",
            "Problem has 23 rows, 27 columns (27 with objective) and 81 elements\n",
            "There are 4 singletons with objective \n",
            "Column breakdown:\n",
            "0 of type 0.0->inf, 26 of type 0.0->up, 0 of type lo->inf, \n",
            "0 of type lo->up, 0 of type free, 0 of type fixed, \n",
            "0 of type -inf->0.0, 0 of type -inf->up, 1 of type 0.0->1.0 \n",
            "Row breakdown:\n",
            "2 of type E 0.0, 0 of type E 1.0, 0 of type E -1.0, \n",
            "0 of type E other, 0 of type G 0.0, 0 of type G 1.0, \n",
            "9 of type G other, 1 of type L 0.0, 0 of type L 1.0, \n",
            "11 of type L other, 0 of type Range 0.0->1.0, 0 of type Range other, \n",
            "0 of type Free \n",
            "Continuous objective value is 30737 - 0.00 seconds\n",
            "Cgl0004I processed model has 21 rows, 26 columns (0 integer (0 of which binary)) and 72 elements\n",
            "Cbc3007W No integer variables - nothing to do\n",
            "Cuts at root node changed objective from 30737 to -1.79769e+308\n",
            "Probing was tried 0 times and created 0 cuts of which 0 were active after adding rounds of cuts (0.000 seconds)\n",
            "Gomory was tried 0 times and created 0 cuts of which 0 were active after adding rounds of cuts (0.000 seconds)\n",
            "Knapsack was tried 0 times and created 0 cuts of which 0 were active after adding rounds of cuts (0.000 seconds)\n",
            "Clique was tried 0 times and created 0 cuts of which 0 were active after adding rounds of cuts (0.000 seconds)\n",
            "MixedIntegerRounding2 was tried 0 times and created 0 cuts of which 0 were active after adding rounds of cuts (0.000 seconds)\n",
            "FlowCover was tried 0 times and created 0 cuts of which 0 were active after adding rounds of cuts (0.000 seconds)\n",
            "TwoMirCuts was tried 0 times and created 0 cuts of which 0 were active after adding rounds of cuts (0.000 seconds)\n",
            "ZeroHalf was tried 0 times and created 0 cuts of which 0 were active after adding rounds of cuts (0.000 seconds)\n",
            "\n",
            "Result - Optimal solution found\n",
            "\n",
            "Objective value:                30737.00000000\n",
            "Enumerated nodes:               0\n",
            "Total iterations:               0\n",
            "Time (CPU seconds):             0.00\n",
            "Time (Wallclock seconds):       0.00\n",
            "\n",
            "Total time (CPU seconds):       0.01   (Wallclock seconds):       0.01\n",
            "\n",
            "\n",
            "Optimal solution found\n",
            "\n",
            "Object function value =  <pyomo.core.base.block._generic_component_decorator object at 0x7f976f647e20>\n",
            "x : Flow from Main Warehouse to Local Warehouse\n",
            "    Size=12, Index=x_index\n",
            "    Key                           : Lower : Value : Upper : Fixed : Stale : Domain\n",
            "    ('MW1', 'LW1', 'Electronics') :     0 :  52.0 :  None : False : False : NonNegativeReals\n",
            "      ('MW1', 'LW1', 'Groceries') :     0 : 724.0 :  None : False : False : NonNegativeReals\n",
            "    ('MW1', 'LW2', 'Electronics') :     0 :  30.0 :  None : False : False : NonNegativeReals\n",
            "      ('MW1', 'LW2', 'Groceries') :     0 : 620.0 :  None : False : False : NonNegativeReals\n",
            "    ('MW1', 'LW3', 'Electronics') :     0 :   0.0 :  None : False : False : NonNegativeReals\n",
            "      ('MW1', 'LW3', 'Groceries') :     0 : 552.0 :  None : False : False : NonNegativeReals\n",
            "    ('MW2', 'LW1', 'Electronics') :     0 : 388.0 :  None : False : False : NonNegativeReals\n",
            "      ('MW2', 'LW1', 'Groceries') :     0 : 776.0 :  None : False : False : NonNegativeReals\n",
            "    ('MW2', 'LW2', 'Electronics') :     0 : 390.0 :  None : False : False : NonNegativeReals\n",
            "      ('MW2', 'LW2', 'Groceries') :     0 : 780.0 :  None : False : False : NonNegativeReals\n",
            "    ('MW2', 'LW3', 'Electronics') :     0 : 450.0 :  None : False : False : NonNegativeReals\n",
            "      ('MW2', 'LW3', 'Groceries') :     0 : 898.0 :  None : False : False : NonNegativeReals\n",
            "y : Flow from Main Warehouse to Distribution Center\n",
            "    Size=12, Index=y_index\n",
            "    Key                           : Lower : Value : Upper : Fixed : Stale : Domain\n",
            "    ('MW1', 'DC1', 'Electronics') :     0 : 918.0 :  None : False : False : NonNegativeReals\n",
            "      ('MW1', 'DC1', 'Groceries') :     0 : 304.0 :  None : False : False : NonNegativeReals\n",
            "    ('MW1', 'DC2', 'Electronics') :     0 :   0.0 :  None : False : False : NonNegativeReals\n",
            "      ('MW1', 'DC2', 'Groceries') :     0 :   0.0 :  None : False : False : NonNegativeReals\n",
            "    ('MW1', 'DC3', 'Electronics') :     0 :   0.0 :  None : False : False : NonNegativeReals\n",
            "      ('MW1', 'DC3', 'Groceries') :     0 :   0.0 :  None : False : False : NonNegativeReals\n",
            "    ('MW2', 'DC1', 'Electronics') :     0 : 132.0 :  None : False : False : NonNegativeReals\n",
            "      ('MW2', 'DC1', 'Groceries') :     0 :  96.0 :  None : False : False : NonNegativeReals\n",
            "    ('MW2', 'DC2', 'Electronics') :     0 :   0.0 :  None : False : False : NonNegativeReals\n",
            "      ('MW2', 'DC2', 'Groceries') :     0 :   0.0 :  None : False : False : NonNegativeReals\n",
            "    ('MW2', 'DC3', 'Electronics') :     0 :   0.0 :  None : False : False : NonNegativeReals\n",
            "      ('MW2', 'DC3', 'Groceries') :     0 :   0.0 :  None : False : False : NonNegativeReals\n",
            "z : Flow from Local Warehouse to Distribution Center\n",
            "    Size=18, Index=z_index\n",
            "    Key                           : Lower : Value  : Upper : Fixed : Stale : Domain\n",
            "    ('LW1', 'DC1', 'Electronics') :     0 :    0.0 :  None : False : False : NonNegativeReals\n",
            "      ('LW1', 'DC1', 'Groceries') :     0 :    0.0 :  None : False : False : NonNegativeReals\n",
            "    ('LW1', 'DC2', 'Electronics') :     0 :  440.0 :  None : False : False : NonNegativeReals\n",
            "      ('LW1', 'DC2', 'Groceries') :     0 : 1500.0 :  None : False : False : NonNegativeReals\n",
            "    ('LW1', 'DC3', 'Electronics') :     0 :    0.0 :  None : False : False : NonNegativeReals\n",
            "      ('LW1', 'DC3', 'Groceries') :     0 :    0.0 :  None : False : False : NonNegativeReals\n",
            "    ('LW2', 'DC1', 'Electronics') :     0 :    0.0 :  None : False : False : NonNegativeReals\n",
            "      ('LW2', 'DC1', 'Groceries') :     0 :    0.0 :  None : False : False : NonNegativeReals\n",
            "    ('LW2', 'DC2', 'Electronics') :     0 :    0.0 :  None : False : False : NonNegativeReals\n",
            "      ('LW2', 'DC2', 'Groceries') :     0 :    0.0 :  None : False : False : NonNegativeReals\n",
            "    ('LW2', 'DC3', 'Electronics') :     0 :  420.0 :  None : False : False : NonNegativeReals\n",
            "      ('LW2', 'DC3', 'Groceries') :     0 : 1400.0 :  None : False : False : NonNegativeReals\n",
            "    ('LW3', 'DC1', 'Electronics') :     0 :  450.0 :  None : False : False : NonNegativeReals\n",
            "      ('LW3', 'DC1', 'Groceries') :     0 : 1450.0 :  None : False : False : NonNegativeReals\n",
            "    ('LW3', 'DC2', 'Electronics') :     0 :    0.0 :  None : False : False : NonNegativeReals\n",
            "      ('LW3', 'DC2', 'Groceries') :     0 :    0.0 :  None : False : False : NonNegativeReals\n",
            "    ('LW3', 'DC3', 'Electronics') :     0 :    0.0 :  None : False : False : NonNegativeReals\n",
            "      ('LW3', 'DC3', 'Groceries') :     0 :    0.0 :  None : False : False : NonNegativeReals\n",
            "o : Whether to open Local Warehouse 3 or not\n",
            "    Size=3, Index=lw\n",
            "    Key : Lower : Value : Upper : Fixed : Stale : Domain\n",
            "    LW1 :     1 :   1.0 :     1 : False : False : Binary\n",
            "    LW2 :     1 :   1.0 :     1 : False : False : Binary\n",
            "    LW3 :     0 :   1.0 :     1 : False : False : Binary\n"
          ]
        }
      ]
    }
  ],
  "metadata": {
    "kernelspec": {
      "display_name": "Python 3 (ipykernel)",
      "language": "python",
      "name": "python3"
    },
    "language_info": {
      "codemirror_mode": {
        "name": "ipython",
        "version": 3
      },
      "file_extension": ".py",
      "mimetype": "text/x-python",
      "name": "python",
      "nbconvert_exporter": "python",
      "pygments_lexer": "ipython3",
      "version": "3.11.0"
    },
    "colab": {
      "provenance": []
    }
  },
  "nbformat": 4,
  "nbformat_minor": 5
}