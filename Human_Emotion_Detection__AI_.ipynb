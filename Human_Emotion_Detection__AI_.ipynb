{
  "cells": [
    {
      "cell_type": "markdown",
      "metadata": {
        "id": "99rLrUCrazdi"
      },
      "source": [
        "# Unzip Dataset"
      ]
    },
    {
      "cell_type": "code",
      "execution_count": null,
      "metadata": {
        "colab": {
          "base_uri": "https://localhost:8080/"
        },
        "id": "D21HFg5jWl4-",
        "outputId": "a24ce845-96c0-4d43-ba10-195e413e5e17"
      },
      "outputs": [
        {
          "output_type": "stream",
          "name": "stdout",
          "text": [
            "Mounted at /content/drive\n"
          ]
        }
      ],
      "source": [
        "from google.colab import drive\n",
        "drive.mount('/content/drive')"
      ]
    },
    {
      "cell_type": "code",
      "execution_count": null,
      "metadata": {
        "id": "PP6z-lyvW_tP"
      },
      "outputs": [],
      "source": [
        "#Only Run Once\n",
        "#!unzip \"/content/drive/MyDrive/Colab Notebooks 2/AI project/archive.zip\" -d \"/content/drive/MyDrive/Colab Notebooks 2/AI project/Data\""
      ]
    },
    {
      "cell_type": "markdown",
      "metadata": {
        "id": "aUSjJDA_aggE"
      },
      "source": [
        "# Splitting Dataset"
      ]
    },
    {
      "cell_type": "code",
      "execution_count": null,
      "metadata": {
        "id": "5-lNGLSyG19D"
      },
      "outputs": [],
      "source": [
        "from tensorflow.keras.preprocessing.image import ImageDataGenerator"
      ]
    },
    {
      "cell_type": "code",
      "execution_count": null,
      "metadata": {
        "id": "eQwKdC76G19H"
      },
      "outputs": [],
      "source": [
        "train_dir = \"/content/drive/MyDrive/Colab Notebooks 2/AI project/Data/train\" # Directory containing the training data\n",
        "test_dir = \"/content/drive/MyDrive/Colab Notebooks 2/AI project/Data/test\"  # Directory containing the validation data"
      ]
    },
    {
      "cell_type": "code",
      "execution_count": null,
      "metadata": {
        "id": "0_7C2uV3G19J"
      },
      "outputs": [],
      "source": [
        "train_datagen = ImageDataGenerator(\n",
        "    width_shift_range = 0.1,        # Randomly shift the width of images by up to 10%\n",
        "    height_shift_range = 0.1,       # Randomly shift the height of images by up to 10%\n",
        "    horizontal_flip = True,         # Flip images horizontally at random\n",
        "    rescale = 1./255,               # Rescale pixel values to be between 0 and 1\n",
        "    validation_split = 0.2          # Set aside 20% of the data for validation\n",
        ")\n",
        "\n",
        "validation_datagen = ImageDataGenerator(\n",
        "    rescale = 1./255,               # Rescale pixel values to be between 0 and 1\n",
        "    validation_split = 0.2          # Set aside 20% of the data for validation\n",
        ")"
      ]
    },
    {
      "cell_type": "code",
      "execution_count": null,
      "metadata": {
        "colab": {
          "base_uri": "https://localhost:8080/"
        },
        "id": "o2cc8fuyG19L",
        "outputId": "ea2b041d-8c9e-489e-b04d-6f031bbdc35e"
      },
      "outputs": [
        {
          "name": "stdout",
          "output_type": "stream",
          "text": [
            "Found 22968 images belonging to 7 classes.\n",
            "Found 1432 images belonging to 7 classes.\n"
          ]
        }
      ],
      "source": [
        "train_generator = train_datagen.flow_from_directory(\n",
        "    directory = train_dir,           # Directory containing the training data\n",
        "    target_size = (48, 48),          # Resizes all images to 48x48 pixels\n",
        "    batch_size = 64,               # Number of images per batch\n",
        "    color_mode = \"grayscale\",        # Converts the images to grayscale\n",
        "    class_mode = \"categorical\",      # Classifies the images into 7 categories\n",
        "    subset = \"training\"              # Uses the training subset of the data\n",
        ")\n",
        "\n",
        "validation_generator = validation_datagen.flow_from_directory(\n",
        "    directory = test_dir,            # Directory containing the validation data\n",
        "    target_size = (48, 48),          # Resizes all images to 48x48 pixels\n",
        "    batch_size = 64,                # Number of images per batch\n",
        "    color_mode = \"grayscale\",        # Converts the images to grayscale\n",
        "    class_mode = \"categorical\",      # Classifies the images into 7 categories\n",
        "    subset = \"validation\"            # Uses the validation subset of the data\n",
        ")"
      ]
    },
    {
      "cell_type": "markdown",
      "metadata": {
        "id": "z9YwLnicG19O"
      },
      "source": [
        "# Modeling"
      ]
    },
    {
      "cell_type": "markdown",
      "metadata": {
        "id": "c7_0-7_CG19Q"
      },
      "source": [
        "We will start by specifying the input layer and the number of filters in the first convolutional layer in order to create the CNN architecture. Next, we'll add more convolutional layers with progressively more filters, then max-pooling layers to condense the feature maps' spatial dimensions. We will add fully connected layers with ReLU activation after the convolutional layers in order to categorize the emotions.\n",
        "\n",
        "To improve the performance of the model, we will conduct experiments with various convolutional layer counts, filter sizes, and fully connected layers. Additionally, to avoid overfitting and enhance the model's generalizability, we will employ strategies like dropout and batch normalization."
      ]
    },
    {
      "cell_type": "code",
      "execution_count": null,
      "metadata": {
        "id": "KVCxF7n2Mbui"
      },
      "outputs": [],
      "source": [
        "from keras.layers import Dense, Dropout, Flatten, Conv2D, MaxPooling2D,BatchNormalization\n",
        "from keras.models import Sequential\n",
        "\n",
        "import tensorflow as tf"
      ]
    },
    {
      "cell_type": "code",
      "execution_count": null,
      "metadata": {
        "id": "NNERoyJrG19R"
      },
      "outputs": [],
      "source": [
        "# Define the model architecture\n",
        "model = Sequential()\n",
        "\n",
        "# Add a convolutional layer with 32 filters, 3x3 kernel size, and relu activation function\n",
        "model.add(Conv2D(32, kernel_size=(3, 3), activation='relu', input_shape=(48,48,1)))\n",
        "# Add a batch normalization layer\n",
        "model.add(BatchNormalization())\n",
        "# Add a second convolutional layer with 64 filters, 3x3 kernel size, and relu activation function\n",
        "model.add(Conv2D(64, kernel_size=(3, 3), activation='relu'))\n",
        "# Add a second batch normalization layer\n",
        "model.add(BatchNormalization())\n",
        "# Add a max pooling layer with 2x2 pool size\n",
        "model.add(MaxPooling2D(pool_size=(2, 2)))\n",
        "# Add a dropout layer with 0.25 dropout rate\n",
        "model.add(Dropout(0.25))\n",
        "\n",
        "# Add a third convolutional layer with 128 filters, 3x3 kernel size, and relu activation function\n",
        "model.add(Conv2D(128, kernel_size=(3, 3), activation='relu'))\n",
        "# Add a third batch normalization layer\n",
        "model.add(BatchNormalization())\n",
        "# Add a fourth convolutional layer with 128 filters, 3x3 kernel size, and relu activation function\n",
        "model.add(Conv2D(128, kernel_size=(3, 3), activation='relu'))\n",
        "# Add a fourth batch normalization layer\n",
        "model.add(BatchNormalization())\n",
        "# Add a max pooling layer with 2x2 pool size\n",
        "model.add(MaxPooling2D(pool_size=(2, 2)))\n",
        "# Add a dropout layer with 0.25 dropout rate\n",
        "model.add(Dropout(0.25))\n",
        "\n",
        "# Add a fifth convolutional layer with 256 filters, 3x3 kernel size, and relu activation function\n",
        "model.add(Conv2D(256, kernel_size=(3, 3), activation='relu'))\n",
        "# Add a fifth batch normalization layer\n",
        "model.add(BatchNormalization())\n",
        "# Add a sixth convolutional layer with 256 filters, 3x3 kernel size, and relu activation function\n",
        "model.add(Conv2D(256, kernel_size=(3, 3), activation='relu'))\n",
        "# Add a sixth batch normalization layer\n",
        "model.add(BatchNormalization())\n",
        "# Add a max pooling layer with 2x2 pool size\n",
        "model.add(MaxPooling2D(pool_size=(2, 2)))\n",
        "# Add a dropout layer with 0.25 dropout rate\n",
        "model.add(Dropout(0.25))\n",
        "\n",
        "# Flatten the output of the convolutional layers\n",
        "model.add(Flatten())\n",
        "# Add a dense layer with 256 neurons and relu activation function\n",
        "model.add(Dense(256, activation='relu'))\n",
        "# Add a seventh batch normalization layer\n",
        "model.add(BatchNormalization())\n",
        "# Add a dropout layer with 0.5 dropout rate\n",
        "model.add(Dropout(0.5))\n",
        "# Add a dense layer with 7 neurons (one for each class) and softmax activation function\n",
        "model.add(Dense(7, activation='softmax'))\n",
        "\n",
        "# Compile the model with categorical cross-entropy loss, adam optimizer, and accuracy metric\n",
        "model.compile(loss=\"categorical_crossentropy\", optimizer= tf.keras.optimizers.Adam(learning_rate=0.0001), metrics=['accuracy'])"
      ]
    },
    {
      "cell_type": "code",
      "execution_count": null,
      "metadata": {
        "colab": {
          "background_save": true,
          "base_uri": "https://localhost:8080/"
        },
        "id": "NmY3s7D-G19T",
        "outputId": "72945e4c-93c1-4fb7-8164-e20a0823e63e"
      },
      "outputs": [
        {
          "name": "stdout",
          "output_type": "stream",
          "text": [
            "Epoch 1/35\n",
            "281/359 [======================>.......] - ETA: 24:47 - loss: 2.8305 - accuracy: 0.1799"
          ]
        }
      ],
      "source": [
        "from keras.callbacks import ModelCheckpoint\n",
        "\n",
        "# Define the callback\n",
        "checkpoint_callback = ModelCheckpoint(\n",
        "    filepath='model_weights.h5',\n",
        "    monitor='val_accuracy',\n",
        "    save_best_only=True,\n",
        "    save_weights_only=True,\n",
        "    mode='max',\n",
        "    verbose=1\n",
        ")\n",
        "\n",
        "# Train the model with the callback\n",
        "history = model.fit(\n",
        "    train_generator,\n",
        "    steps_per_epoch=len(train_generator),\n",
        "    epochs=35, #we tried 5,10,20,35\n",
        "    validation_data=validation_generator,\n",
        "    validation_steps=len(validation_generator),\n",
        "    callbacks=[checkpoint_callback]\n",
        ")\n"
      ]
    },
    {
      "cell_type": "markdown",
      "metadata": {
        "id": "teOue1RBG19U"
      },
      "source": [
        "# Evaluation"
      ]
    },
    {
      "cell_type": "markdown",
      "metadata": {
        "id": "aQlMEB9qG19V"
      },
      "source": [
        "### Training and validation loss curves"
      ]
    },
    {
      "cell_type": "code",
      "execution_count": null,
      "metadata": {
        "id": "luC7voflG19W"
      },
      "outputs": [],
      "source": [
        "import matplotlib.pyplot as plt\n",
        "\n",
        "# Plot the train and validation loss\n",
        "train_loss = history.history['loss']\n",
        "val_loss = history.history['val_loss']\n",
        "epochs = range(1, len(train_loss) + 1)\n",
        "plt.plot(epochs, train_loss, 'bo', label='Training loss')\n",
        "plt.plot(epochs, val_loss, 'b', label='Validation loss')\n",
        "plt.title('Training and validation loss')\n",
        "plt.xlabel('Epochs')\n",
        "plt.ylabel('Loss')\n",
        "plt.legend()\n",
        "plt.show()"
      ]
    },
    {
      "cell_type": "markdown",
      "metadata": {
        "id": "x5CvYKqXG19X"
      },
      "source": [
        "### Training and validation accuracy curves"
      ]
    },
    {
      "cell_type": "code",
      "execution_count": null,
      "metadata": {
        "id": "Wbcwd_CzG19X"
      },
      "outputs": [],
      "source": [
        "# Plot the train and validation accuracy\n",
        "train_acc = history.history['accuracy']\n",
        "val_acc = history.history['val_accuracy']\n",
        "plt.plot(epochs, train_acc, 'bo', label='Training accuracy')\n",
        "plt.plot(epochs, val_acc, 'b', label='Validation accuracy')\n",
        "plt.title('Training and validation accuracy')\n",
        "plt.xlabel('Epochs')\n",
        "plt.ylabel('Accuracy')\n",
        "plt.legend()\n",
        "plt.show()"
      ]
    },
    {
      "cell_type": "markdown",
      "metadata": {
        "id": "9eH41ZugG19Y"
      },
      "source": [
        "### Confusion Matrix"
      ]
    },
    {
      "cell_type": "code",
      "execution_count": null,
      "metadata": {
        "id": "jZgw_qaZG19Z"
      },
      "outputs": [],
      "source": [
        "import numpy as np\n",
        "import seaborn as sns\n",
        "from sklearn.metrics import confusion_matrix\n",
        "\n",
        "# Get the true labels and predicted labels for the validation set\n",
        "validation_labels = validation_generator.classes\n",
        "validation_pred_probs = model.predict(validation_generator)\n",
        "validation_pred_labels = np.argmax(validation_pred_probs, axis=1)\n",
        "\n",
        "# Compute the confusion matrix\n",
        "confusion_mtx = confusion_matrix(validation_labels, validation_pred_labels)\n",
        "class_names = list(train_generator.class_indices.keys())\n",
        "sns.set()\n",
        "sns.heatmap(confusion_mtx, annot=True, fmt='d', cmap='YlGnBu',\n",
        "            xticklabels=class_names, yticklabels=class_names)\n",
        "plt.xlabel('Predicted Label')\n",
        "plt.ylabel('True Label')\n",
        "plt.title('Confusion Matrix')\n",
        "plt.show()"
      ]
    },
    {
      "cell_type": "markdown",
      "metadata": {
        "id": "VITtFTRKe2qY"
      },
      "source": [
        "## Overall Acuraccy Result"
      ]
    },
    {
      "cell_type": "code",
      "execution_count": null,
      "metadata": {
        "colab": {
          "base_uri": "https://localhost:8080/",
          "height": 472
        },
        "id": "xioI07_cecuE",
        "outputId": "9efa3b45-53f0-4b1b-85aa-595ef3c5c088"
      },
      "outputs": [
        {
          "data": {
            "image/png": "[encoded data removed]",
            "text/plain": [
              "<Figure size 640x480 with 1 Axes>"
            ]
          },
          "metadata": {},
          "output_type": "display_data"
        }
      ],
      "source": [
        "import matplotlib.pyplot as plt\n",
        "\n",
        "epochs = [5, 10, 20, 35]\n",
        "train_accuracy = [0.30, 0.40, 0.52, 0.59]\n",
        "validation_accuracy = [0.40, 0.48, 0.57, 0.62]\n",
        "\n",
        "plt.plot(epochs, train_accuracy, 'teal', label='Training Accuracy', solid_capstyle='round')\n",
        "plt.plot(epochs, validation_accuracy, 'darkorange', label='Validation Accuracy', solid_capstyle='round')\n",
        "plt.title('Training and Validation Accuracy')\n",
        "plt.xlabel('Epochs')\n",
        "plt.ylabel('Accuracy')\n",
        "plt.legend()\n",
        "plt.show()\n"
      ]
    },
    {
      "cell_type": "code",
      "execution_count": null,
      "metadata": {
        "colab": {
          "base_uri": "https://localhost:8080/",
          "height": 472
        },
        "id": "m1LTReDvekqh",
        "outputId": "94e703eb-bb3b-4ca6-fc9c-25be4716c25f"
      },
      "outputs": [
        {
          "data": {
            "image/png": "[encoded data removed]",
            "text/plain": [
              "<Figure size 640x480 with 1 Axes>"
            ]
          },
          "metadata": {},
          "output_type": "display_data"
        }
      ],
      "source": [
        "import matplotlib.pyplot as plt\n",
        "import numpy as np\n",
        "\n",
        "epochs = [5, 10, 20, 35]\n",
        "train_accuracy = [0.30, 0.40, 0.52, 0.59]\n",
        "validation_accuracy = [0.40, 0.48, 0.57, 0.62]\n",
        "\n",
        "bar_width = 0.7\n",
        "bar_shift = 0.5  # Shift the training bars to the right\n",
        "\n",
        "plt.bar(np.array(epochs) - bar_shift, train_accuracy, bar_width, color='teal', label='Training Accuracy')\n",
        "plt.bar(epochs, validation_accuracy, bar_width, color='darkorange', label='Validation Accuracy')\n",
        "\n",
        "plt.title('Training and Validation Accuracy')\n",
        "plt.xlabel('Epochs')\n",
        "plt.ylabel('Accuracy')\n",
        "plt.legend()\n",
        "\n",
        "plt.show()\n"
      ]
    }
  ],
  "metadata": {
    "colab": {
      "provenance": []
    },
    "kernelspec": {
      "display_name": "Python 3",
      "language": "python",
      "name": "python3"
    },
    "language_info": {
      "codemirror_mode": {
        "name": "ipython",
        "version": 3
      },
      "file_extension": ".py",
      "mimetype": "text/x-python",
      "name": "python",
      "nbconvert_exporter": "python",
      "pygments_lexer": "ipython3",
      "version": "3.7.12"
    }
  },
  "nbformat": 4,
  "nbformat_minor": 0
}